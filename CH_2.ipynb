{
 "cells": [
  {
   "cell_type": "code",
   "execution_count": 3,
   "metadata": {},
   "outputs": [],
   "source": [
    "#Simple if statement \n",
    "   if condition\n",
    "      statement\n",
    "    "
   ]
  },
  {
   "cell_type": "code",
   "execution_count": 5,
   "metadata": {},
   "outputs": [
    {
     "name": "stdout",
     "output_type": "stream",
     "text": [
      "enter namearman\n",
      "hi\n",
      "how are you\n"
     ]
    }
   ],
   "source": [
    "name=input(\"enter name\")\n",
    "if name==\"arman\":\n",
    "    print(\"hi\")\n",
    "print(\"how are you\")"
   ]
  },
  {
   "cell_type": "code",
   "execution_count": 15,
   "metadata": {},
   "outputs": [
    {
     "name": "stdout",
     "output_type": "stream",
     "text": [
      "enter name arman\n",
      "hi\n",
      "op\n"
     ]
    }
   ],
   "source": [
    "#if-else statement\n",
    "\n",
    "name=input(\"enter name \")\n",
    "if name==\"arman\":\n",
    "    print(\"hi\")\n",
    "else:\n",
    "    print(\"how are you\")\n",
    "print(\"op\")"
   ]
  },
  {
   "cell_type": "code",
   "execution_count": null,
   "metadata": {},
   "outputs": [],
   "source": [
    "#if-elif-else\n",
    "\n",
    " if condition 1\n",
    "    action 1\n",
    "elif condition 2\n",
    "     action 2\n",
    "elif condition 3\n",
    "     action 3\n",
    ".\n",
    ".\n",
    ".\n",
    "else\n",
    "    default action\n",
    "    "
   ]
  },
  {
   "cell_type": "code",
   "execution_count": 1,
   "metadata": {},
   "outputs": [
    {
     "name": "stdout",
     "output_type": "stream",
     "text": [
      "enter no. 1\n",
      "enter no. 2\n",
      "enter no. 3\n",
      "max  3\n"
     ]
    }
   ],
   "source": [
    "n1=int(input(\"enter no. \"))\n",
    "n2=int(input(\"enter no. \"))\n",
    "n3=int(input(\"enter no. \"))\n",
    "\n",
    "if (n1>n2) and (n1>n3):\n",
    "    print(\"max \",n1)\n",
    "elif n2>n3:\n",
    "    print(\"max \",n2)\n",
    "else:\n",
    "    print(\"max \",n3)"
   ]
  },
  {
   "cell_type": "code",
   "execution_count": 10,
   "metadata": {},
   "outputs": [
    {
     "ename": "IndentationError",
     "evalue": "unexpected indent (<ipython-input-10-6d379f6790d5>, line 4)",
     "output_type": "error",
     "traceback": [
      "\u001b[1;36m  File \u001b[1;32m\"<ipython-input-10-6d379f6790d5>\"\u001b[1;36m, line \u001b[1;32m4\u001b[0m\n\u001b[1;33m    if x>10:\u001b[0m\n\u001b[1;37m    ^\u001b[0m\n\u001b[1;31mIndentationError\u001b[0m\u001b[1;31m:\u001b[0m unexpected indent\n"
     ]
    }
   ],
   "source": [
    "# nested if\n",
    "\n",
    "x=41\n",
    " if x>10:\n",
    "    print(\"above 10\")\n",
    "        if x>20:\n",
    "            print(\"above 20\")\n",
    "        else:\n",
    "            print(\"equal 40\")\n",
    "        "
   ]
  },
  {
   "cell_type": "code",
   "execution_count": null,
   "metadata": {},
   "outputs": [],
   "source": [
    "# Iterator statement\n",
    "1. for loop\n",
    "2. while loop"
   ]
  },
  {
   "cell_type": "code",
   "execution_count": null,
   "metadata": {},
   "outputs": [],
   "source": [
    "# 1. for loop\n",
    "\n",
    "SYNTAX := for x in sequence :\n"
   ]
  },
  {
   "cell_type": "code",
   "execution_count": 12,
   "metadata": {},
   "outputs": [
    {
     "name": "stdout",
     "output_type": "stream",
     "text": [
      "a r m n a "
     ]
    }
   ],
   "source": [
    "s=\"armna\"\n",
    "for i in s:\n",
    "    print(i, end=\" \")"
   ]
  },
  {
   "cell_type": "code",
   "execution_count": 14,
   "metadata": {},
   "outputs": [
    {
     "name": "stdout",
     "output_type": "stream",
     "text": [
      "0 1 2 3 4 5 6 7 8 9 "
     ]
    }
   ],
   "source": [
    "for i in range(10):\n",
    "    print(i,end=\" \")\n"
   ]
  },
  {
   "cell_type": "code",
   "execution_count": 15,
   "metadata": {},
   "outputs": [
    {
     "name": "stdout",
     "output_type": "stream",
     "text": [
      "5 6 7 8 9 10 11 12 13 14 "
     ]
    }
   ],
   "source": [
    "for i in range(5,15):\n",
    "    print(i,end=\" \")\n"
   ]
  },
  {
   "cell_type": "code",
   "execution_count": 19,
   "metadata": {},
   "outputs": [
    {
     "name": "stdout",
     "output_type": "stream",
     "text": [
      "5 10 15 20 25 30 35 40 45 50 55 60 65 70 75 80 85 90 95 100 "
     ]
    }
   ],
   "source": [
    "for i in range (5,101,5):\n",
    "    print(i,end=\" \")"
   ]
  },
  {
   "cell_type": "code",
   "execution_count": 25,
   "metadata": {},
   "outputs": [
    {
     "name": "stdout",
     "output_type": "stream",
     "text": [
      "10 9 8 7 6 5 4 3 2 1 "
     ]
    }
   ],
   "source": [
    "for i in range (10,0,-1):\n",
    "    print(i,end=\" \")"
   ]
  },
  {
   "cell_type": "code",
   "execution_count": 28,
   "metadata": {},
   "outputs": [],
   "source": [
    "#no oputput\n",
    "for i in range (0,10,-1):\n",
    "    print(i,end=\" \")"
   ]
  },
  {
   "cell_type": "code",
   "execution_count": 34,
   "metadata": {},
   "outputs": [
    {
     "name": "stdout",
     "output_type": "stream",
     "text": [
      "hello hello hello hello hello "
     ]
    }
   ],
   "source": [
    "for i in range (5):\n",
    "    print(\"hello\", end=\" \")"
   ]
  },
  {
   "cell_type": "code",
   "execution_count": 35,
   "metadata": {},
   "outputs": [
    {
     "name": "stdout",
     "output_type": "stream",
     "text": [
      "1\n",
      "2\n",
      "3\n",
      "4\n",
      "5\n"
     ]
    }
   ],
   "source": [
    "#2. while loop\n",
    "\n",
    "i=0\n",
    "while i<5:\n",
    "    print(i+1)\n",
    "    i=i+1"
   ]
  },
  {
   "cell_type": "code",
   "execution_count": 1,
   "metadata": {},
   "outputs": [
    {
     "name": "stdout",
     "output_type": "stream",
     "text": [
      "hello\n",
      "hello\n",
      "hello\n",
      "hello\n",
      "hello\n"
     ]
    }
   ],
   "source": [
    "n=1\n",
    "while n<=5:\n",
    "    print(\"hello\")\n",
    "    n+=1"
   ]
  },
  {
   "cell_type": "code",
   "execution_count": 3,
   "metadata": {},
   "outputs": [
    {
     "name": "stdout",
     "output_type": "stream",
     "text": [
      "enter name : dsd'\n",
      "enter again\n",
      "enter name : dsd\n",
      "enter again\n",
      "enter name : \n",
      "enter again\n",
      "enter name : arman\n",
      "ok\n"
     ]
    }
   ],
   "source": [
    "i=input(\"enter name : \")\n",
    "while i!=\"arman\":\n",
    "    print(\"enter again\")\n",
    "    i=input(\"enter name : \")\n",
    "print(\"ok\")"
   ]
  },
  {
   "cell_type": "code",
   "execution_count": 5,
   "metadata": {},
   "outputs": [
    {
     "name": "stdout",
     "output_type": "stream",
     "text": [
      "I 0 J 0\n",
      "I 0 J 1\n",
      "I 1 J 0\n",
      "I 1 J 1\n"
     ]
    }
   ],
   "source": [
    "#nested loop\n",
    "for i in range(2):\n",
    "    for j in range(2):\n",
    "        print(\"I\",i,\"J\",j)"
   ]
  },
  {
   "cell_type": "code",
   "execution_count": 10,
   "metadata": {},
   "outputs": [
    {
     "name": "stdout",
     "output_type": "stream",
     "text": [
      "0\n",
      "1\n",
      "2\n",
      "3\n",
      "4\n",
      "5\n",
      "6\n",
      "stop\n",
      "7\n"
     ]
    }
   ],
   "source": [
    "#Break sataement\n",
    "for i in range(10):\n",
    "    if i==7:\n",
    "        print(\"stop\")\n",
    "        break\n",
    "    print(i)\n",
    "    #upar valu print loop ma che\n",
    "print(i)"
   ]
  },
  {
   "cell_type": "code",
   "execution_count": 11,
   "metadata": {},
   "outputs": [
    {
     "name": "stdout",
     "output_type": "stream",
     "text": [
      "1\n",
      "3\n",
      "5\n",
      "7\n",
      "9\n"
     ]
    }
   ],
   "source": [
    "# continue - skip current iteration\n",
    "for i in range(10):\n",
    "    if i%2==0:\n",
    "        continue\n",
    "    print(i)"
   ]
  },
  {
   "cell_type": "code",
   "execution_count": 15,
   "metadata": {},
   "outputs": [],
   "source": [
    "#pass statement\n",
    "if True:\n",
    "    pass\n",
    "def test():\n",
    "    pass"
   ]
  },
  {
   "cell_type": "code",
   "execution_count": 21,
   "metadata": {},
   "outputs": [
    {
     "name": "stdout",
     "output_type": "stream",
     "text": [
      "0\n",
      "9\n",
      "18\n"
     ]
    }
   ],
   "source": [
    "for i in range(20):\n",
    "    if i%9==0:\n",
    "        print(i)\n",
    "    else:\n",
    "        pass"
   ]
  },
  {
   "cell_type": "code",
   "execution_count": 22,
   "metadata": {},
   "outputs": [],
   "source": [
    "for i in range(10):\n",
    "    pass"
   ]
  },
  {
   "cell_type": "code",
   "execution_count": 29,
   "metadata": {},
   "outputs": [
    {
     "name": "stdout",
     "output_type": "stream",
     "text": [
      "enter char O\n",
      "vowel\n"
     ]
    }
   ],
   "source": [
    "# to chehck the given letter is vowle or consonant\n",
    "a= input(\"enter char \")\n",
    "if a=='a' or a=='e' or a=='i' or a=='u' or a=='o' or a=='A' or a=='E' or a=='I'or a=='O' or a=='U':\n",
    "    print(\"vowel\")\n",
    "else:\n",
    "    print(\"consonant\")\n",
    "    \n",
    "#or\n",
    "\n",
    "a= input(\"enter char \")\n",
    "s=\"aeiouAEIOU\"\n",
    "if a in s:\n",
    "     print(\"vowel\")\n",
    "else:\n",
    "    print(\"consonant\")\n"
   ]
  },
  {
   "cell_type": "code",
   "execution_count": 3,
   "metadata": {},
   "outputs": [
    {
     "name": "stdout",
     "output_type": "stream",
     "text": [
      "enter year: 2028\n",
      "leap year\n"
     ]
    }
   ],
   "source": [
    "#check whether the given year is leap year or not\n",
    "y=int(input(\"enter year: \"))\n",
    "if((y%4==0 and y%100!=0) or (y%400==0)):\n",
    "    print(\"leap year\")\n",
    "else:\n",
    "    print(\"not\")\n",
    "    "
   ]
  },
  {
   "cell_type": "code",
   "execution_count": 9,
   "metadata": {},
   "outputs": [
    {
     "name": "stdout",
     "output_type": "stream",
     "text": [
      "enter no.1: 5\n",
      "enter no.2: 3\n",
      "enter choise: **\n",
      "125\n"
     ]
    }
   ],
   "source": [
    "# to perform arethematic opertations acc. to the choices given\n",
    "a=int(input(\"enter no.1: \"))\n",
    "b=int(input(\"enter no.2: \"))\n",
    "choise=input(\"enter choise: \")\n",
    "\n",
    "if choise==\"+\":\n",
    "    print(a+b)\n",
    "elif choise==\"-\" :\n",
    "    print(a-b)\n",
    "elif choise==\"*\" :\n",
    "    print(a*b)\n",
    "elif choise==\"/\" :\n",
    "    print(a/b)\n",
    "elif choise==\"//\" :\n",
    "    print(a//b)\n",
    "elif choise==\"**\" :\n",
    "    print(a**b)\n",
    "else:\n",
    "    print(\"enter valid choise\")\n",
    "    \n",
    "\n"
   ]
  },
  {
   "cell_type": "code",
   "execution_count": 16,
   "metadata": {},
   "outputs": [
    {
     "name": "stdout",
     "output_type": "stream",
     "text": [
      "enter marks: 80\n",
      "Distinction\n"
     ]
    }
   ],
   "source": [
    "#give grade acc. to marks , take marks from the user\n",
    "#marks 80-100=distinction , 60-79=first class , 35-59second class, 0-34=fail\n",
    "\n",
    "a=int(input(\"enter marks: \"))\n",
    "\n",
    "if a>=80:\n",
    "    print(\"Distinction\")\n",
    "elif a>=60 and a<=79:\n",
    "    print(\"First Class\")\n",
    "elif a>=35 and a<=59:\n",
    "    print(\"Second Class\")\n",
    "else:\n",
    "    print(\"Fail\")\n",
    "\n",
    "\n",
    "\n"
   ]
  },
  {
   "cell_type": "code",
   "execution_count": 20,
   "metadata": {},
   "outputs": [
    {
     "name": "stdout",
     "output_type": "stream",
     "text": [
      "enter marks 1: 52\n",
      "enter marks 2: 68\n",
      "enter marks 3: 75\n",
      "Avg : 65.0\n"
     ]
    }
   ],
   "source": [
    "# avg of three subject\n",
    "a=int(input(\"enter marks 1: \"))\n",
    "b=int(input(\"enter marks 2: \"))\n",
    "c=int(input(\"enter marks 3: \"))\n",
    "d=float((a+b+c)/3)\n",
    "print(\"Avg :\",d)"
   ]
  },
  {
   "cell_type": "code",
   "execution_count": 34,
   "metadata": {},
   "outputs": [
    {
     "name": "stdout",
     "output_type": "stream",
     "text": [
      "enter units: 101\n",
      "Charge : 5\n"
     ]
    }
   ],
   "source": [
    "#to calculate based on the no. of unit enterd by the user \n",
    "#Unit first 100 unit no charge , next 100 unit 5rs per unit, after 200 unit 10 per unit\n",
    "\n",
    "a=int(input(\"enter units: \"))\n",
    "\n",
    "if a<=100:\n",
    "    print(\"NO Charge\")\n",
    "elif a>=101 and a<=200:\n",
    "    d=(a-100)*5\n",
    "    print(\"Charge :\",d)\n",
    "elif a>=201:\n",
    "    b=500+(a-200)*10\n",
    "    print(\"Charge :\",b)\n",
    "   "
   ]
  },
  {
   "cell_type": "code",
   "execution_count": 35,
   "metadata": {},
   "outputs": [
    {
     "name": "stdout",
     "output_type": "stream",
     "text": [
      "enter marks 1: 103\n",
      "Divisible\n"
     ]
    }
   ],
   "source": [
    "#is the given no.'s last digit is divisible by 3 or not\n",
    "\n",
    "a=int(input(\"enter no: \"))\n",
    "b=a%10\n",
    "\n",
    "if (b%3==0):\n",
    "    print(\"Divisible\")\n",
    "else:\n",
    "        print(\"Not Divisible\")\n",
    "\n",
    "    "
   ]
  },
  {
   "cell_type": "code",
   "execution_count": 7,
   "metadata": {},
   "outputs": [
    {
     "name": "stdout",
     "output_type": "stream",
     "text": [
      "enter no: 879\n",
      "it is three digit and middle is 7\n"
     ]
    }
   ],
   "source": [
    "#check where the givent  no. is three digit no. or not\n",
    "#if the no id three difit then display middle no.\n",
    "\n",
    "a=int(input(\"enter no: \"))\n",
    "count=0\n",
    "b=a\n",
    "c=0\n",
    "\n",
    "while a>0:\n",
    "    a=a//10\n",
    "    count=count+1\n",
    "if(count==3):\n",
    "    while b>10:\n",
    "        c=b%10\n",
    "        b=b//10\n",
    "    print(\"it is three digit and middle is\",c)\n",
    "else:\n",
    "    print(\"enter three digit\")\n",
    "    "
   ]
  },
  {
   "cell_type": "code",
   "execution_count": 15,
   "metadata": {},
   "outputs": [
    {
     "name": "stdout",
     "output_type": "stream",
     "text": [
      "enter cost: 70000\n",
      "tax = 7000.0\n",
      "total = 77000.0\n"
     ]
    }
   ],
   "source": [
    "# write a program to accept the cost price of bike and calculate toll tax\n",
    "# >100000 tax=15% , >50000 and <=100000 tax=10% , <=50000 tax=5%\n",
    "\n",
    "a=int(input(\"enter cost: \"))\n",
    "\n",
    "if a>100000:\n",
    "    print(\"tax =\",a*.15)\n",
    "    print(\"total =\",a+a*.15)\n",
    "elif a>50000 and a<=100000:\n",
    "    print(\"tax =\",a*.10)\n",
    "    print(\"total =\",a+a*.10)\n",
    "elif a<=50000:\n",
    "    print(\"tax =\",a*.05)\n",
    "    print(\"total =\",a+a*.05)\n"
   ]
  },
  {
   "cell_type": "code",
   "execution_count": 20,
   "metadata": {},
   "outputs": [
    {
     "name": "stdout",
     "output_type": "stream",
     "text": [
      "enter total no. working days: 100\n",
      "enter total no. absent days: 89\n",
      "YES ELIGIBLE\n"
     ]
    }
   ],
   "source": [
    "#accept the following from the user nand calclute the percentage of the class attendence\n",
    "#after calaclating the percentage if the percentage is <75 then you are ot eligaible for the exam and if >75 then eligible\n",
    "\n",
    "a=int(input(\"enter total no. working days: \"))\n",
    "b=int(input(\"enter total no. absent days: \"))\n",
    "\n",
    "c=(b/a)*100\n",
    "if c>=75:\n",
    "    print(\"YES ELIGIBLE\")\n",
    "else:\n",
    "    print(\"NOT ELIGIBLE\")\n",
    "\n",
    "    "
   ]
  },
  {
   "cell_type": "code",
   "execution_count": 24,
   "metadata": {},
   "outputs": [
    {
     "name": "stdout",
     "output_type": "stream",
     "text": [
      "enter side 1: 14\n",
      "enter side 2: 14\n",
      "enter side 3: 14\n",
      "equilateral\n"
     ]
    }
   ],
   "source": [
    "#accept the three sides of a triangle and check whether it is equilateral, isoscelus or scalen triangle\n",
    "\n",
    "a=int(input(\"enter side 1: \"))\n",
    "b=int(input(\"enter side 2: \"))\n",
    "c=int(input(\"enter side 3: \"))\n",
    "\n",
    "if a==b==c:\n",
    "    print(\"equilateral\")\n",
    "elif a==b or b==c or a==c:\n",
    "    print(\"isoscelus\")\n",
    "else:\n",
    "    print(\"scalen\")\n",
    "    "
   ]
  },
  {
   "cell_type": "code",
   "execution_count": 28,
   "metadata": {},
   "outputs": [
    {
     "name": "stdout",
     "output_type": "stream",
     "text": [
      "enter age: 18\n",
      "enter gender: m\n",
      "Enter the no of working days10\n",
      "wages 7000\n"
     ]
    }
   ],
   "source": [
    " # accept the age gender and no. days and dislay the wages acco.\n",
    " # age>18 and <30 ,gender =M,F ,wages/days=700,750\n",
    " # age>=30 and =<40 ,gender =M,F ,wages/days=800,850\n",
    "# IF AGE IS NOT FALL IN ANY Range THEN Message soubl be displayed \"enter approp. range\"\n",
    "\n",
    "a=int(input(\"enter age: \"))\n",
    "b=input(\"enter gender: \")\n",
    "d=int(input(\"Enter the no of working days\"))\n",
    "wages=0\n",
    "\n",
    "if a>=18 and a<30:\n",
    "    if b==\"m\":\n",
    "        wages=(d*700)\n",
    "    elif b==\"f\":\n",
    "        wages=(d*750)\n",
    "elif a>=30 and a<40 :\n",
    "    if b==\"m\":\n",
    "        wages=(d*800)\n",
    "    elif b==\"f\":\n",
    "        wages=(d*850)\n",
    "else:\n",
    "    print(\"enter approp. range\")\n",
    "    \n",
    "print(\"wages\",wages)\n",
    "    "
   ]
  },
  {
   "cell_type": "code",
   "execution_count": 5,
   "metadata": {},
   "outputs": [
    {
     "name": "stdout",
     "output_type": "stream",
     "text": [
      "enter no :1\n",
      "enter no :20\n",
      "enter no :3\n",
      "3 is divisible by 3\n",
      "6 is divisible by 3\n",
      "9 is divisible by 3\n",
      "12 is divisible by 3\n",
      "15 is divisible by 3\n",
      "18 is divisible by 3\n",
      "total no 40\n"
     ]
    }
   ],
   "source": [
    "# to read three no. and check how many no. availabe between first two no. are divisible by third no.\n",
    "a=int(input(\"enter no :\"))\n",
    "b=int(input(\"enter no :\"))\n",
    "c=int(input(\"enter no :\"))\n",
    "\n",
    "for i in range(a,b+1):\n",
    "    if(i%c==0):\n",
    "        count+=1\n",
    "        print(i,\"is divisible by\",c)\n",
    "print(\"total no\",count)"
   ]
  },
  {
   "cell_type": "code",
   "execution_count": 28,
   "metadata": {},
   "outputs": [
    {
     "name": "stdout",
     "output_type": "stream",
     "text": [
      "enter no :5\n",
      "5 x 1 = 5\n",
      "5 x 2 = 10\n",
      "5 x 3 = 15\n",
      "5 x 4 = 20\n",
      "5 x 5 = 25\n",
      "5 x 6 = 30\n",
      "5 x 7 = 35\n",
      "5 x 8 = 40\n",
      "5 x 9 = 45\n",
      "5 x 10 = 50\n"
     ]
    }
   ],
   "source": [
    "# table\n",
    "a=int(input(\"enter no :\"))\n",
    "for i in range(1,11):\n",
    "    print(a,\"x\",i,\"=\",(a*i))"
   ]
  },
  {
   "cell_type": "code",
   "execution_count": 23,
   "metadata": {},
   "outputs": [
    {
     "name": "stdout",
     "output_type": "stream",
     "text": [
      "enter no :5\n",
      "sum 15\n",
      "avg 3.0\n"
     ]
    }
   ],
   "source": [
    "# sum of n no. also find avg. of the\n",
    "a=int(input(\"enter no :\"))\n",
    "count=avg=0\n",
    "\n",
    "for i in range(a+1):\n",
    "    count=count+i\n",
    "\n",
    "print(\"sum\",count)\n",
    "avg=count/a\n",
    "print(\"avg\",avg)"
   ]
  },
  {
   "cell_type": "code",
   "execution_count": 34,
   "metadata": {},
   "outputs": [
    {
     "name": "stdout",
     "output_type": "stream",
     "text": [
      "enter no :8\n",
      "enter no :64\n",
      "power req to get 64 with no. 8 is 2\n"
     ]
    }
   ],
   "source": [
    "# to find and int exponent x\n",
    "a=int(input(\"enter no :\"))\n",
    "b=int(input(\"enter no :\"))\n",
    "m=b\n",
    "count=0\n",
    "while(b>1):\n",
    "    count+=1\n",
    "    b=b/a\n",
    "print(\"power req to get\",m,\"with no.\",a,\"is\",count)"
   ]
  },
  {
   "cell_type": "code",
   "execution_count": 12,
   "metadata": {},
   "outputs": [
    {
     "name": "stdout",
     "output_type": "stream",
     "text": [
      "enter no 1\n",
      "factorial 1\n"
     ]
    }
   ],
   "source": [
    "# to find the factorial of a given no\n",
    "a=int(input(\"enter no: \"))\n",
    "count=1\n",
    "\n",
    "for i in range(1,a+1):\n",
    "    count=count*i\n",
    "print(\"factorial\",count)"
   ]
  },
  {
   "cell_type": "code",
   "execution_count": 42,
   "metadata": {},
   "outputs": [
    {
     "name": "stdout",
     "output_type": "stream",
     "text": [
      "enter no: 5\n",
      "fibonacci series: \n",
      "0\n",
      "1\n",
      "1\n",
      "2\n",
      "3\n"
     ]
    }
   ],
   "source": [
    "# to display fibonacci sequence upto n terms\n",
    "n=int(input(\"enter no: \"))\n",
    "a=0\n",
    "b=1\n",
    "c=0\n",
    "print(\"fibonacci series: \")\n",
    "if n==1:\n",
    "    print(a)\n",
    "    \n",
    "elif n==2:\n",
    "    print(a)\n",
    "    print(b)\n",
    "    \n",
    "elif n==0:\n",
    "    print(0)\n",
    "\n",
    "elif n<=0:\n",
    "    print(\"negetive no enter agian\")\n",
    "    \n",
    "else:\n",
    "    print(a)\n",
    "    print(b)\n",
    "    for i in range(n-2):\n",
    "        c=a+b\n",
    "        a=b\n",
    "        b=c\n",
    "        print(c)\n",
    "    \n"
   ]
  },
  {
   "cell_type": "code",
   "execution_count": 45,
   "metadata": {},
   "outputs": [
    {
     "name": "stdout",
     "output_type": "stream",
     "text": [
      "enter no: 1\n",
      "enter no: 1\n",
      "enter no: 1\n",
      "enter no: 1\n",
      "enter no: 1\n",
      "enter no: 1\n",
      "enter no: 1\n",
      "enter no: 1\n",
      "enter no: 1\n",
      "enter no: 1\n",
      "sum 10\n",
      "avg 1.0\n"
     ]
    }
   ],
   "source": [
    "# take 10 no. from user and display there sum and avg\n",
    "count=0\n",
    "avg=0\n",
    "\n",
    "for i in range(1,11):\n",
    "    n=int(input(\"enter no: \"))\n",
    "    count=count+n\n",
    "    \n",
    "print(\"sum\",count)\n",
    "print(\"avg\",count/10)\n",
    " "
   ]
  },
  {
   "cell_type": "code",
   "execution_count": 50,
   "metadata": {},
   "outputs": [
    {
     "name": "stdout",
     "output_type": "stream",
     "text": [
      "enter no of inputs: 5\n",
      "enter no: 1\n",
      "enter no: 2\n",
      "enter no: 3\n",
      "enter no: 4\n",
      "enter no: 5\n",
      "total odd 3\n",
      "total even 2\n",
      "sum of even 6\n",
      "sum of odd 9\n"
     ]
    }
   ],
   "source": [
    "# to count total add and even no and do the sum of that\n",
    "n=int(input(\"enter no of inputs: \"))\n",
    "counte=0\n",
    "counto=0\n",
    "e=0\n",
    "o=0\n",
    "\n",
    "for i in range(1,n+1):\n",
    "    n=int(input(\"enter no: \"))\n",
    "    \n",
    "    if(n%2==0):\n",
    "        counte=counte+1\n",
    "        e=e+n\n",
    "\n",
    "    else:\n",
    "        counto=counto+1\n",
    "        o=o+n\n",
    "        \n",
    "print(\"total odd\",counto)\n",
    "print(\"total even\",counte)\n",
    "print(\"sum of even\",e)\n",
    "print(\"sum of odd\",o)"
   ]
  },
  {
   "cell_type": "code",
   "execution_count": 52,
   "metadata": {},
   "outputs": [
    {
     "name": "stdout",
     "output_type": "stream",
     "text": [
      "enter no of inputs: 5\n",
      "enter no: -9\n",
      "enter no: -5\n",
      "enter no: -2\n",
      "enter no: -4\n",
      "enter no: -6\n",
      "sum of positive no. is 0\n"
     ]
    }
   ],
   "source": [
    "# take user input and do additon of only positive no\n",
    "n=int(input(\"enter no of inputs: \"))\n",
    "count=0\n",
    "\n",
    "for i in range(1,n+1):\n",
    "    n=int(input(\"enter no: \"))\n",
    "    \n",
    "    if n>0:\n",
    "        count=count+n\n",
    "print(\"sum of positive no. is\",count)"
   ]
  },
  {
   "cell_type": "code",
   "execution_count": 2,
   "metadata": {},
   "outputs": [
    {
     "name": "stdout",
     "output_type": "stream",
     "text": [
      "enter no: 12365\n",
      "inf\n"
     ]
    }
   ],
   "source": [
    "# to find reverse no. of the noumer provided by the user\n",
    "a=int(input(\"enter no: \"))\n",
    "b=a\n",
    "count=rev=ans=0\n",
    "\n",
    "while a>0:\n",
    "    rev=a%10\n",
    "    ans=ans*10+rev\n",
    "    a=a//10\n",
    "print(ans)"
   ]
  },
  {
   "cell_type": "code",
   "execution_count": 5,
   "metadata": {},
   "outputs": [
    {
     "name": "stdout",
     "output_type": "stream",
     "text": [
      "enter no: 123\n",
      "not prlindrom\n"
     ]
    }
   ],
   "source": [
    "# to find the no. is pelindrome or not\n",
    "a=int(input(\"enter no: \"))\n",
    "b=a\n",
    "count=rev=ans=0\n",
    "\n",
    "while a>0:\n",
    "    rev=a%10\n",
    "    ans=ans*10+rev\n",
    "    a=a//10\n",
    "    \n",
    "if(b==ans):\n",
    "    print(\"pelindrom\")\n",
    "else:\n",
    "    print(\"not prlindrom\")"
   ]
  },
  {
   "cell_type": "code",
   "execution_count": 10,
   "metadata": {},
   "outputs": [
    {
     "name": "stdout",
     "output_type": "stream",
     "text": [
      "enter no: 1111\n",
      "not armstrong\n"
     ]
    }
   ],
   "source": [
    "#given no. is armstrong or not\n",
    "\n",
    "a=int(input(\"enter no: \"))\n",
    "\n",
    "count=rem=ans=0\n",
    "b=a\n",
    "c=b\n",
    "\n",
    "while(a>0):\n",
    "    count=count+1\n",
    "    a=a//10\n",
    "\n",
    "while(b>0):\n",
    "    rem=b%10\n",
    "    ans=ans+(rem**count)\n",
    "    b=b//10\n",
    "\n",
    "    \n",
    "if(c==ans):\n",
    "    print(\"armstrong\")\n",
    "else:\n",
    "    print(\"not armstrong\")\n",
    "    "
   ]
  },
  {
   "cell_type": "code",
   "execution_count": 15,
   "metadata": {},
   "outputs": [
    {
     "name": "stdout",
     "output_type": "stream",
     "text": [
      "enter no: 5\n",
      "prime\n"
     ]
    }
   ],
   "source": [
    "# the given no. is prime or not\n",
    "a=int(input(\"enter no: \"))\n",
    "count=0\n",
    "\n",
    "for i in range(1,a+1):\n",
    "    if a%i==0:\n",
    "        count=count+1\n",
    "        \n",
    "if count==2:\n",
    "    print(\"prime\")\n",
    "else:\n",
    "    print(\"not prime\")"
   ]
  },
  {
   "cell_type": "code",
   "execution_count": 17,
   "metadata": {},
   "outputs": [
    {
     "name": "stdout",
     "output_type": "stream",
     "text": [
      "enter no: 100\n",
      "2 3 5 7 11 13 17 19 23 29 31 37 41 43 47 53 59 61 67 71 73 79 83 89 97 "
     ]
    }
   ],
   "source": [
    "# from the given range give all the from no.\n",
    "a=int(input(\"enter no: \"))\n",
    "count=0\n",
    "\n",
    "for i in range(1,a+1):\n",
    "    count=0\n",
    "    \n",
    "    for j in range(1,i+1):\n",
    "        \n",
    "        if i%j==0:\n",
    "            count=count+1\n",
    "            \n",
    "    if count==2:\n",
    "        print(i,end=\" \")"
   ]
  },
  {
   "cell_type": "code",
   "execution_count": 2,
   "metadata": {},
   "outputs": [
    {
     "name": "stdout",
     "output_type": "stream",
     "text": [
      "enter no: 45\n",
      "not happy\n"
     ]
    }
   ],
   "source": [
    "#to check the entered number is happy number or not\n",
    "a=int(input(\"enter no: \"))\n",
    "t=a\n",
    "\n",
    "while a!=1 and a!=4:\n",
    "    sum=0\n",
    "    for j in str(a):\n",
    "        sum+=int(j)**2\n",
    "    a=sum\n",
    "\n",
    "if(sum==1):\n",
    "      print(\"happy\")\n",
    "else:\n",
    "    print(\"not happy\")\n",
    "      \n",
    "      \n"
   ]
  },
  {
   "cell_type": "code",
   "execution_count": 44,
   "metadata": {},
   "outputs": [
    {
     "name": "stdout",
     "output_type": "stream",
     "text": [
      "enter no: 5\n",
      "*\n",
      "**\n",
      "***\n",
      "****\n",
      "*****\n"
     ]
    }
   ],
   "source": [
    "'''\n",
    "*\n",
    "**\n",
    "***\n",
    "****\n",
    "***** '''\n",
    "\n",
    "a=int(input(\"enter no: \"))\n",
    "\n",
    "for i in range(1,a+1):\n",
    "    for j in range(1,i+1):\n",
    "        print(\"*\",end=\"\")\n",
    "    print()"
   ]
  },
  {
   "cell_type": "code",
   "execution_count": 11,
   "metadata": {},
   "outputs": [
    {
     "name": "stdout",
     "output_type": "stream",
     "text": [
      "enter no: 5\n",
      "1\n",
      "22\n",
      "333\n",
      "4444\n",
      "55555\n"
     ]
    }
   ],
   "source": [
    "'''\n",
    "1\n",
    "22\n",
    "333\n",
    "4444\n",
    "55555 '''\n",
    "\n",
    "a=int(input(\"enter no: \"))\n",
    "\n",
    "for i in range(1,a+1):\n",
    "    for j in range(1,i+1):\n",
    "        print(i,end=\"\")\n",
    "    print()"
   ]
  },
  {
   "cell_type": "code",
   "execution_count": 13,
   "metadata": {},
   "outputs": [
    {
     "name": "stdout",
     "output_type": "stream",
     "text": [
      "enter no: 5\n",
      "1\n",
      "12\n",
      "123\n",
      "1234\n",
      "12345\n"
     ]
    }
   ],
   "source": [
    "'''\n",
    "1\n",
    "12\n",
    "123\n",
    "1234\n",
    "12345 '''\n",
    "\n",
    "a=int(input(\"enter no: \"))\n",
    "\n",
    "for i in range(1,a+1):\n",
    "    for j in range(1,i+1):\n",
    "        print(j,end=\"\")\n",
    "    print()"
   ]
  },
  {
   "cell_type": "code",
   "execution_count": 16,
   "metadata": {},
   "outputs": [
    {
     "name": "stdout",
     "output_type": "stream",
     "text": [
      "enter no: 5\n",
      "a\n",
      "bc\n",
      "def\n",
      "ghij\n",
      "klmno\n"
     ]
    }
   ],
   "source": [
    "'''\n",
    "1\n",
    "12\n",
    "123\n",
    "1234\n",
    "12345 '''\n",
    "\n",
    "a=int(input(\"enter no: \"))\n",
    "b=97\n",
    "\n",
    "for i in range(1,a+1):\n",
    "    for j in range(1,i+1):\n",
    "        print(chr(b),end=\"\")\n",
    "        b=b+1\n",
    "    print()"
   ]
  },
  {
   "cell_type": "code",
   "execution_count": 17,
   "metadata": {},
   "outputs": [
    {
     "name": "stdout",
     "output_type": "stream",
     "text": [
      "enter no: 5\n",
      "a\n",
      "ab\n",
      "abc\n",
      "abcd\n",
      "abcde\n"
     ]
    }
   ],
   "source": [
    "'''\n",
    "a\n",
    "ab\n",
    "abc\n",
    "abcd\n",
    "abcde '''\n",
    "\n",
    "\n",
    "a=int(input(\"enter no: \"))\n",
    "\n",
    "for i in range(1,a+1):\n",
    "    b=97\n",
    "    for j in range(1,i+1):\n",
    "        print(chr(b),end=\"\")\n",
    "        b=b+1\n",
    "    print()"
   ]
  },
  {
   "cell_type": "code",
   "execution_count": 22,
   "metadata": {},
   "outputs": [
    {
     "name": "stdout",
     "output_type": "stream",
     "text": [
      "enter no: 5\n",
      "*****\n",
      "****\n",
      "***\n",
      "**\n",
      "*\n"
     ]
    }
   ],
   "source": [
    "'''\n",
    "*****\n",
    "****\n",
    "***\n",
    "**\n",
    "*\n",
    "'''\n",
    "\n",
    "a=int(input(\"enter no: \"))\n",
    "\n",
    "for i in range(1,a+1):\n",
    "    for j in range(1,a+2-i):\n",
    "        print(\"*\",end=\"\")\n",
    "    print()"
   ]
  },
  {
   "cell_type": "code",
   "execution_count": 23,
   "metadata": {},
   "outputs": [
    {
     "name": "stdout",
     "output_type": "stream",
     "text": [
      "enter no: 5\n",
      "11111\n",
      "2222\n",
      "333\n",
      "44\n",
      "5\n"
     ]
    }
   ],
   "source": [
    "'''\n",
    "11111\n",
    "2222\n",
    "333\n",
    "44\n",
    "5\n",
    "'''\n",
    "\n",
    "a=int(input(\"enter no: \"))\n",
    "\n",
    "for i in range(1,a+1):\n",
    "    for j in range(1,a+2-i):\n",
    "        print(i,end=\"\")\n",
    "    print()"
   ]
  },
  {
   "cell_type": "code",
   "execution_count": 24,
   "metadata": {},
   "outputs": [
    {
     "name": "stdout",
     "output_type": "stream",
     "text": [
      "enter no: 5\n",
      "12345\n",
      "1234\n",
      "123\n",
      "12\n",
      "1\n"
     ]
    }
   ],
   "source": [
    "'''\n",
    "12345\n",
    "1234\n",
    "123\n",
    "12\n",
    "1\n",
    "'''\n",
    "\n",
    "a=int(input(\"enter no: \"))\n",
    "\n",
    "for i in range(1,a+1):\n",
    "    for j in range(1,a+2-i):\n",
    "        print(j,end=\"\")\n",
    "    print()"
   ]
  },
  {
   "cell_type": "code",
   "execution_count": 28,
   "metadata": {},
   "outputs": [
    {
     "name": "stdout",
     "output_type": "stream",
     "text": [
      "enter no: 5\n",
      "*\n",
      "##\n",
      "***\n",
      "####\n",
      "*****\n"
     ]
    }
   ],
   "source": [
    "'''\n",
    "*\n",
    "##\n",
    "***\n",
    "####\n",
    "*****\n",
    "'''\n",
    "\n",
    "a=int(input(\"enter no: \"))\n",
    "\n",
    "for i in range(1,a+1):\n",
    "    for j in range(1,i+1):\n",
    "        if(i%2==0):\n",
    "            print(\"#\",end=\"\")\n",
    "        else:\n",
    "            print(\"*\",end=\"\")\n",
    "    print()"
   ]
  },
  {
   "cell_type": "code",
   "execution_count": 30,
   "metadata": {},
   "outputs": [
    {
     "name": "stdout",
     "output_type": "stream",
     "text": [
      "enter no: 5\n",
      "1\n",
      "01\n",
      "101\n",
      "0101\n",
      "10101\n"
     ]
    }
   ],
   "source": [
    "'''\n",
    "1\n",
    "01\n",
    "101\n",
    "0101\n",
    "10101\n",
    "'''\n",
    "\n",
    "a=int(input(\"enter no: \"))\n",
    "\n",
    "for i in range(1,a+1):\n",
    "    for j in range(1,i+1):\n",
    "        if((i+j)%2==0):\n",
    "            print(\"1\",end=\"\")\n",
    "        else:\n",
    "            print(\"0\",end=\"\")\n",
    "    print()"
   ]
  },
  {
   "cell_type": "code",
   "execution_count": 39,
   "metadata": {},
   "outputs": [
    {
     "name": "stdout",
     "output_type": "stream",
     "text": [
      "enter no: 5\n",
      "* * * * * \n",
      "  * * * * \n",
      "    * * * \n",
      "      * * \n",
      "        * \n"
     ]
    }
   ],
   "source": [
    "'''\n",
    "* * * * * \n",
    "  * * * * \n",
    "    * * * \n",
    "      * * \n",
    "        *\n",
    "'''\n",
    "\n",
    "a=int(input(\"enter no: \"))\n",
    "\n",
    "for i in range(1,a+1):\n",
    "    for j in range(1,i):\n",
    "        print(\" \",end=\" \")\n",
    "    for k in range(1,a+2-i):\n",
    "        print(\"*\",end=\" \")\n",
    "    print()"
   ]
  },
  {
   "cell_type": "code",
   "execution_count": 47,
   "metadata": {},
   "outputs": [
    {
     "name": "stdout",
     "output_type": "stream",
     "text": [
      "enter no: 5\n",
      " *   *   *   *   *  \n",
      "   *   *   *   *  \n",
      "     *   *   *  \n",
      "       *   *  \n",
      "         *  \n"
     ]
    }
   ],
   "source": [
    "'''\n",
    "*   *   *   *   *  \n",
    "   *   *   *   *  \n",
    "     *   *   *  \n",
    "       *   *  \n",
    "         *  \n",
    "'''\n",
    "\n",
    "a=int(input(\"enter no: \"))\n",
    "\n",
    "for i in range(1,a+1):\n",
    "    for j in range(1,i):\n",
    "        print(\" \",end=\" \")\n",
    "    for k in range(1,a+2-i):\n",
    "        print(\" * \",end=\" \")\n",
    "    print()"
   ]
  },
  {
   "cell_type": "code",
   "execution_count": 3,
   "metadata": {},
   "outputs": [
    {
     "name": "stdout",
     "output_type": "stream",
     "text": [
      "enter no: 5\n",
      "    *\n",
      "   **\n",
      "  ***\n",
      " ****\n",
      "*****\n"
     ]
    }
   ],
   "source": [
    "'''\n",
    "    *\n",
    "   **\n",
    "  ***\n",
    " ****\n",
    "*****\n",
    "'''\n",
    "\n",
    "a=int(input(\"enter no: \"))\n",
    "\n",
    "for i in range(1,a+1):\n",
    "    for k in range(1,a-i+1):\n",
    "        print(\" \",end=\"\")\n",
    "    for j in range(1,i+1):\n",
    "        print(\"*\",end=\"\")\n",
    "    print()"
   ]
  },
  {
   "cell_type": "code",
   "execution_count": 6,
   "metadata": {},
   "outputs": [
    {
     "name": "stdout",
     "output_type": "stream",
     "text": [
      "enter no: 5\n",
      "    * \n",
      "   * * \n",
      "  * * * \n",
      " * * * * \n",
      "* * * * * \n"
     ]
    }
   ],
   "source": [
    "'''\n",
    "    * \n",
    "   * * \n",
    "  * * * \n",
    " * * * * \n",
    "* * * * * \n",
    "'''\n",
    "\n",
    "a=int(input(\"enter no: \"))\n",
    "\n",
    "for i in range(1,a+1):\n",
    "    for k in range(1,a-i+1):\n",
    "        print(\" \",end=\"\")\n",
    "    for j in range(1,i+1):\n",
    "        print(\"* \",end=\"\")\n",
    "    print()"
   ]
  },
  {
   "cell_type": "code",
   "execution_count": 12,
   "metadata": {},
   "outputs": [
    {
     "name": "stdout",
     "output_type": "stream",
     "text": [
      "enter no: 5\n",
      "    1 \n",
      "   A B \n",
      "  1 2 3 \n",
      " A B C D \n",
      "1 2 3 4 5 \n"
     ]
    }
   ],
   "source": [
    "'''\n",
    "    1 \n",
    "   A B \n",
    "  1 2 3 \n",
    " A B C D \n",
    "1 2 3 4 5 \n",
    "'''\n",
    "\n",
    "a=int(input(\"enter no: \"))\n",
    "\n",
    "for i in range(1,a+1):\n",
    "    d=65\n",
    "    for k in range(1,a-i+1):\n",
    "        print(\" \",end=\"\")\n",
    "    for j in range(1,i+1):\n",
    "        if i%2==1:\n",
    "            print(j,end=\" \")\n",
    "        else:\n",
    "             print(chr(d),end=\" \")\n",
    "        d=d+1\n",
    "    print()"
   ]
  }
 ],
 "metadata": {
  "kernelspec": {
   "display_name": "Python 3",
   "language": "python",
   "name": "python3"
  },
  "language_info": {
   "codemirror_mode": {
    "name": "ipython",
    "version": 3
   },
   "file_extension": ".py",
   "mimetype": "text/x-python",
   "name": "python",
   "nbconvert_exporter": "python",
   "pygments_lexer": "ipython3",
   "version": "3.8.5"
  }
 },
 "nbformat": 4,
 "nbformat_minor": 4
}
