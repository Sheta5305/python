{
 "cells": [
  {
   "cell_type": "code",
   "execution_count": null,
   "metadata": {},
   "outputs": [],
   "source": [
    "# def function_name(parameter):\n",
    "#->body of function\n",
    "#->return value"
   ]
  },
  {
   "cell_type": "code",
   "execution_count": 1,
   "metadata": {},
   "outputs": [
    {
     "name": "stdout",
     "output_type": "stream",
     "text": [
      "hello\n"
     ]
    }
   ],
   "source": [
    "#eg:-\n",
    "def wish():\n",
    "    name=print(\"hello\")\n",
    "    \n",
    "wish()"
   ]
  },
  {
   "cell_type": "code",
   "execution_count": 2,
   "metadata": {},
   "outputs": [
    {
     "ename": "TypeError",
     "evalue": "wish() takes 0 positional arguments but 1 was given",
     "output_type": "error",
     "traceback": [
      "\u001b[1;31m---------------------------------------------------------------------------\u001b[0m",
      "\u001b[1;31mTypeError\u001b[0m                                 Traceback (most recent call last)",
      "\u001b[1;32m<ipython-input-2-a13153f1bd4a>\u001b[0m in \u001b[0;36m<module>\u001b[1;34m\u001b[0m\n\u001b[0;32m      3\u001b[0m     \u001b[0mname\u001b[0m\u001b[1;33m=\u001b[0m\u001b[0mprint\u001b[0m\u001b[1;33m(\u001b[0m\u001b[1;34m\"hello\"\u001b[0m\u001b[1;33m)\u001b[0m\u001b[1;33m\u001b[0m\u001b[1;33m\u001b[0m\u001b[0m\n\u001b[0;32m      4\u001b[0m \u001b[1;33m\u001b[0m\u001b[0m\n\u001b[1;32m----> 5\u001b[1;33m \u001b[0mwish\u001b[0m\u001b[1;33m(\u001b[0m\u001b[1;34m\"arman\"\u001b[0m\u001b[1;33m)\u001b[0m\u001b[1;33m\u001b[0m\u001b[1;33m\u001b[0m\u001b[0m\n\u001b[0m",
      "\u001b[1;31mTypeError\u001b[0m: wish() takes 0 positional arguments but 1 was given"
     ]
    }
   ],
   "source": [
    "#eg:-\n",
    "def wish():\n",
    "    name=print(\"hello\")\n",
    "    \n",
    "wish(\"arman\")"
   ]
  },
  {
   "cell_type": "code",
   "execution_count": 4,
   "metadata": {},
   "outputs": [
    {
     "name": "stdout",
     "output_type": "stream",
     "text": [
      "Enter Name: hello hi\n",
      "hello hi\n"
     ]
    }
   ],
   "source": [
    "# Different category of UDF\n",
    "# 1. function with no paramenter and no return type\n",
    "\n",
    "# eg:-\n",
    "def printline():\n",
    "    s=input (\"Enter Name: \")\n",
    "    print(s)\n",
    "printline()"
   ]
  },
  {
   "cell_type": "code",
   "execution_count": 5,
   "metadata": {},
   "outputs": [
    {
     "name": "stdout",
     "output_type": "stream",
     "text": [
      "Enter Name: heello hii\n",
      "heello hii\n"
     ]
    }
   ],
   "source": [
    "# 2. function with parameter and no return type \n",
    "\n",
    "#eg:-\n",
    "def printline(s):\n",
    "    print(s)\n",
    "x= input(\"Enter Name: \")\n",
    "printline(x)"
   ]
  },
  {
   "cell_type": "code",
   "execution_count": 7,
   "metadata": {},
   "outputs": [
    {
     "name": "stdout",
     "output_type": "stream",
     "text": [
      "Enter Name: heeelo hiie\n",
      "heeelo hiie\n"
     ]
    }
   ],
   "source": [
    "# 3. function with parameter and with return type\n",
    "\n",
    "#eg:-\n",
    "\n",
    "def printline(s):\n",
    "    return s\n",
    "x= input(\"Enter Name: \")\n",
    "t=printline(x)\n",
    "print(t)"
   ]
  },
  {
   "cell_type": "code",
   "execution_count": 8,
   "metadata": {},
   "outputs": [
    {
     "name": "stdout",
     "output_type": "stream",
     "text": [
      "Enter Namehellllo ji\n",
      "hellllo ji\n"
     ]
    }
   ],
   "source": [
    "#4. fuction with no parameter and with return type\n",
    "\n",
    "#eg:-\n",
    "def printline():\n",
    "    s=input(\"Enter Name\")\n",
    "    return s\n",
    "t=printline()\n",
    "print(t)"
   ]
  },
  {
   "cell_type": "code",
   "execution_count": 9,
   "metadata": {},
   "outputs": [
    {
     "name": "stdout",
     "output_type": "stream",
     "text": [
      "(30, 10, 200, 2.0)\n"
     ]
    }
   ],
   "source": [
    "def clac(a,b):\n",
    "    add=a+b\n",
    "    sub=a-b\n",
    "    mul=a*b\n",
    "    div=a/b\n",
    "    return add,sub,mul,div\n",
    "a=20\n",
    "b=10\n",
    "t=clac(a,b)\n",
    "print(t)"
   ]
  },
  {
   "cell_type": "code",
   "execution_count": 11,
   "metadata": {},
   "outputs": [
    {
     "name": "stdout",
     "output_type": "stream",
     "text": [
      "Enter No.5\n",
      "odd\n"
     ]
    }
   ],
   "source": [
    "def oddeven(s):\n",
    "    if s%2==0:\n",
    "        print(\"even\")\n",
    "    else:\n",
    "        print(\"odd\")\n",
    "a=int(input(\"Enter No.\"))\n",
    "oddeven(a)"
   ]
  },
  {
   "cell_type": "code",
   "execution_count": 3,
   "metadata": {},
   "outputs": [
    {
     "name": "stdout",
     "output_type": "stream",
     "text": [
      "hello\n"
     ]
    }
   ],
   "source": [
    "def hello():\n",
    "    \"\"\"hello\"\"\"\n",
    "    print(\"docstring\") #does not print anthing outside\n",
    "print(hello.__doc__)"
   ]
  },
  {
   "cell_type": "code",
   "execution_count": 5,
   "metadata": {},
   "outputs": [
    {
     "name": "stdout",
     "output_type": "stream",
     "text": [
      "return the sum\n"
     ]
    }
   ],
   "source": [
    "def add(a,b):\n",
    "    \"\"\"return the sum\"\"\"\n",
    "    sum=a+b\n",
    "    return sum\n",
    "print(add.__doc__)"
   ]
  },
  {
   "cell_type": "code",
   "execution_count": 7,
   "metadata": {},
   "outputs": [
    {
     "name": "stdout",
     "output_type": "stream",
     "text": [
      "-100 100\n"
     ]
    }
   ],
   "source": [
    "# positional argument\n",
    "def sub(a,b):\n",
    "    return(a-b)\n",
    "print(sub(100,200),\n",
    "sub(200,100))"
   ]
  },
  {
   "cell_type": "code",
   "execution_count": 14,
   "metadata": {},
   "outputs": [
    {
     "ename": "SyntaxError",
     "evalue": "positional argument follows keyword argument (<ipython-input-14-365ae76bcd83>, line 7)",
     "output_type": "error",
     "traceback": [
      "\u001b[1;36m  File \u001b[1;32m\"<ipython-input-14-365ae76bcd83>\"\u001b[1;36m, line \u001b[1;32m7\u001b[0m\n\u001b[1;33m    wish(msg=\"inder\",\"good\")\u001b[0m\n\u001b[1;37m                     ^\u001b[0m\n\u001b[1;31mSyntaxError\u001b[0m\u001b[1;31m:\u001b[0m positional argument follows keyword argument\n"
     ]
    }
   ],
   "source": [
    "# keyword argument\n",
    "def wish(name,msg):\n",
    "    print(\"hello\",name,msg)\n",
    "wish(\"inder\",\"good\")\n",
    "wish(name=\"inder\",msg=\"good\")\n",
    "wish(msg=\"inder\",name=\"good\")\n",
    "wish(\"inder\",msg=\"good\")\n",
    "# wish(msg=\"inder\",\"good\")\n",
    "# wish(\"inder\",name=\"good\") error"
   ]
  },
  {
   "cell_type": "code",
   "execution_count": 15,
   "metadata": {},
   "outputs": [
    {
     "name": "stdout",
     "output_type": "stream",
     "text": [
      "welcome inder\n",
      "welcome guest\n"
     ]
    }
   ],
   "source": [
    "# default argument\n",
    "def hello(name=\"guest\"):\n",
    "    print(\"welcome\",name)\n",
    "hello(\"inder\")\n",
    "hello()"
   ]
  },
  {
   "cell_type": "code",
   "execution_count": 29,
   "metadata": {},
   "outputs": [
    {
     "name": "stdout",
     "output_type": "stream",
     "text": [
      "sum: 10\n",
      "sum: 14\n",
      "sum: 10\n",
      "<class 'tuple'>\n",
      "1\n",
      "2,3,sum: 10\n",
      "<class 'tuple'>\n",
      "3\n",
      "1,2,"
     ]
    }
   ],
   "source": [
    "# variable length arguments\n",
    "# case 1\n",
    "def sum(*n):\n",
    "    total=0\n",
    "    for n1 in n:\n",
    "        total+=n1\n",
    "    print(\"sum:\",total)\n",
    "sum(10)\n",
    "sum(1,2,3,4,4)\n",
    "\n",
    "# case 2\n",
    "def sum1(n1,*s):\n",
    "    print(type(s))\n",
    "    print(n1)\n",
    "    for s1 in s:\n",
    "        print(s1,end=\",\")\n",
    "sum(10)\n",
    "sum1(1,2,3)\n",
    "\n",
    "# case 3\n",
    "def sum1(*s,n1):\n",
    "    print(type(s))\n",
    "    print(n1)\n",
    "    for s1 in s:\n",
    "        print(s1,end=\",\")\n",
    "sum(10)\n",
    "sum1(1,2,n1=3)\n"
   ]
  },
  {
   "cell_type": "code",
   "execution_count": 36,
   "metadata": {},
   "outputs": [
    {
     "name": "stdout",
     "output_type": "stream",
     "text": [
      "{'m1': 200, 'm2': 300}\n",
      "('m1', 200)\n",
      "('m2', 300)\n"
     ]
    }
   ],
   "source": [
    "# variable length arguments\n",
    "# kwargs\n",
    "def display(**kwargs):\n",
    "    print(kwargs)\n",
    "    for k in kwargs.items(): #keys,values,items\n",
    "        print(k)\n",
    "display(m1=200,m2=300)"
   ]
  },
  {
   "cell_type": "code",
   "execution_count": 1,
   "metadata": {},
   "outputs": [
    {
     "name": "stdout",
     "output_type": "stream",
     "text": [
      "Enter your choice 1 for celcius 2 for farenhit1\n",
      "Enter value:23\n",
      "celcius: -5.0\n"
     ]
    }
   ],
   "source": [
    "# converter using function\n",
    "a=int(input(\"Enter your choice 1 for celcius 2 for farenhit\"))\n",
    "value=int(input(\"Enter value:\"))\n",
    "def cel(x):\n",
    "    cel=(x-32)*5/9\n",
    "    return cel\n",
    "def fare(y):\n",
    "    far=(9/5)*y+32\n",
    "    return far\n",
    "if a==1:\n",
    "    print(\"celcius:\",cel(value))\n",
    "else:\n",
    "    print(\"farenhit:\",fare(value))"
   ]
  },
  {
   "cell_type": "code",
   "execution_count": 9,
   "metadata": {},
   "outputs": [
    {
     "name": "stdout",
     "output_type": "stream",
     "text": [
      "enter number:5\n",
      "enter start pos:1\n",
      "enter end pos:5\n",
      "yes\n"
     ]
    }
   ],
   "source": [
    "# range yes or no\n",
    "a=int(input(\"enter number:\"))\n",
    "x=int(input(\"enter start pos:\"))\n",
    "y=int(input(\"enter end pos:\"))\n",
    "a=1\n",
    "def find(a,x,y):\n",
    "    for i in range(x,y):\n",
    "        if a==i:\n",
    "            a=0\n",
    "            print(\"yes\")\n",
    "    if a==1:\n",
    "        print(\"no\")\n",
    "find(a,x,y)\n"
   ]
  },
  {
   "cell_type": "code",
   "execution_count": 26,
   "metadata": {},
   "outputs": [
    {
     "name": "stdout",
     "output_type": "stream",
     "text": [
      "1 for palindrome\n",
      "2 for armstrong\n",
      "3 for prime\n",
      "4 for happy no\n",
      "Enter your choice:3\n",
      "enter number:809\n",
      "prime\n"
     ]
    }
   ],
   "source": [
    "# choice game\n",
    "def palindrome(y):\n",
    "    x=y\n",
    "    ans=0;\n",
    "    while y>0:\n",
    "        rem=y%10\n",
    "        ans=(ans*10)+rem\n",
    "        y=y//10\n",
    "    if ans==x:\n",
    "        print(\"palindrome\")\n",
    "    else:\n",
    "        print(\"not a palindrome\")\n",
    "        \n",
    "def armstrong(y):\n",
    "    x=y\n",
    "    ans=0\n",
    "    while y>0:\n",
    "        rem=y%10\n",
    "        ans+=(rem**3)\n",
    "        y=y//10\n",
    "    if ans==x:\n",
    "        print(\"armstrong\")\n",
    "    else:\n",
    "        print(\"not an armstrong\")\n",
    "        \n",
    "def prime(y):\n",
    "    count=0\n",
    "    for i in range(1,y+1):\n",
    "        if y%i==0:\n",
    "            count+=1\n",
    "    if count==2:\n",
    "        print(\"prime\")\n",
    "    else:\n",
    "        print(\"not an prime no\")\n",
    "    \n",
    "def happy(y):\n",
    "    while y!=1 and y!=4:\n",
    "        sum=0\n",
    "        for j in str(y):\n",
    "            sum+=int(j)**2\n",
    "        y=sum\n",
    "    if sum==1:\n",
    "        print(\"happy\")\n",
    "    else:\n",
    "        print(\"not happy\")\n",
    "print(\"1 for palindrome\")\n",
    "print(\"2 for armstrong\")\n",
    "print(\"3 for prime\")\n",
    "print(\"4 for happy no\")\n",
    "a=int(input(\"Enter your choice:\"))\n",
    "x=int(input(\"enter number:\"))\n",
    "y=x\n",
    "count=0\n",
    "while x>0:\n",
    "    count+=1\n",
    "    x=x//10\n",
    "if count==3:\n",
    "    if a==1:\n",
    "        palindrome(y)\n",
    "    elif a==2:\n",
    "        armstrong(y)\n",
    "    elif a==3:\n",
    "        prime(y)\n",
    "    elif a==4:\n",
    "        happy(y)\n",
    "    else:\n",
    "        print(\"enter correct value\")\n",
    "else:\n",
    "    print(\"enter correct input\")"
   ]
  },
  {
   "cell_type": "code",
   "execution_count": 2,
   "metadata": {},
   "outputs": [
    {
     "name": "stdout",
     "output_type": "stream",
     "text": [
      "enter the no:9\n",
      "111119\n",
      "111133\n",
      "111191\n",
      "111313\n",
      "111331\n",
      "111911\n",
      "113113\n",
      "113131\n",
      "113311\n",
      "119111\n",
      "131113\n",
      "131131\n",
      "131311\n",
      "133111\n",
      "191111\n",
      "311113\n",
      "311131\n",
      "311311\n",
      "313111\n",
      "331111\n",
      "911111\n"
     ]
    }
   ],
   "source": [
    "# write a program that enters single digit int no and produces all possible 6 digit no for which the product of that digit\n",
    "# = the entered no\n",
    "a=int(input(\"enter the no:\"))\n",
    "for i in range(100000,1000000):\n",
    "    b=0\n",
    "    temp=i\n",
    "    mul=1\n",
    "    while i>0:\n",
    "        b=i%10\n",
    "        mul=mul*b\n",
    "        i=i//10\n",
    "    if mul==a:\n",
    "        print(temp)"
   ]
  },
  {
   "cell_type": "code",
   "execution_count": 2,
   "metadata": {},
   "outputs": [
    {
     "name": "stdout",
     "output_type": "stream",
     "text": [
      "Enter the number:4\n",
      "Enter the number:5\n",
      "Enter the number:3\n",
      "Enter the number:6\n",
      "Enter the number:7\n",
      "Enter the number:stop\n",
      "max: 7 min: 0\n",
      "avg: 5.0\n"
     ]
    }
   ],
   "source": [
    "# write a pyhton program that ask the user and enter the number and stop when only user entered stop min,max,avg\n",
    "min=0\n",
    "max=0\n",
    "avg=0\n",
    "count=0\n",
    "sum=0\n",
    "while True:\n",
    "    a=str(input(\"Enter the number:\"))\n",
    "    if a==\"stop\":\n",
    "        avg=sum/count\n",
    "        break\n",
    "    else:\n",
    "        if int(a)<min:\n",
    "            min=int(a)\n",
    "        if int(a)>max:\n",
    "            max=int(a)\n",
    "        count+=1\n",
    "        sum=sum+int(a)\n",
    "print(\"max:\",max,\"min:\",min)\n",
    "print(\"avg:\",avg)"
   ]
  },
  {
   "cell_type": "code",
   "execution_count": 2,
   "metadata": {},
   "outputs": [
    {
     "name": "stdout",
     "output_type": "stream",
     "text": [
      "Enter Grade Level: A\n",
      "Enter City Level: 1\n",
      "142800.0\n",
      "1321200.0\n",
      "110100.0\n"
     ]
    }
   ],
   "source": [
    "# qb:-180\n",
    "\n",
    "gradeLevel=input(\"Enter Grade Level: \")\n",
    "cityLevel=int(input(\"Enter City Level: \"))\n",
    "\n",
    "if gradeLevel>=\"A\" and gradeLevel<=\"F\":\n",
    "    if cityLevel>=1 and cityLevel<=3:\n",
    "        \n",
    "        professionTax=200\n",
    "        transportAllowance=900\n",
    "\n",
    "        \n",
    "        if(gradeLevel==\"A\"):\n",
    "            basicPay=60000\n",
    "            otherPay=8000\n",
    "            DA=.5*basicPay\n",
    "            pf=0.11*basicPay\n",
    "            \n",
    "            if(cityLevel==1):\n",
    "                HRA=.3*basicPay\n",
    "            elif(cityLevel==2):\n",
    "                HRA=.2*basicPay\n",
    "            else:\n",
    "                HRA=.1*basicPay\n",
    "                \n",
    "            grossPay=basicPay+HRA+DA+otherPay+transportAllowance-professionTax-pf\n",
    "\n",
    "        \n",
    "        elif(gradeLevel==\"B\"):\n",
    "            basicPay=50000\n",
    "            otherPay=7000\n",
    "            DA=.5*basicPay\n",
    "            pf=0.11*basicPay\n",
    "            \n",
    "            if(cityLevel==1):\n",
    "                HRA=.3*basicPay\n",
    "            elif(cityLevel==2):\n",
    "                HRA=.2*basicPay\n",
    "            else:\n",
    "                HRA=.1*basicPay\n",
    "                \n",
    "            grossPay=basicPay+HRA+DA+otherPay+transportAllowance-professionTax-pf\n",
    "\n",
    "                \n",
    "        elif(gradeLevel==\"C\"):\n",
    "            basicPay=40000\n",
    "            otherPay=6000\n",
    "            DA=.5*basicPay\n",
    "            pf=0.11*basicPay\n",
    "            \n",
    "            if(cityLevel==1):\n",
    "                HRA=.3*basicPay\n",
    "            elif(cityLevel==2):\n",
    "                HRA=.2*basicPay\n",
    "            else:\n",
    "                HRA=.1*basicPay\n",
    "                \n",
    "            grossPay=basicPay+HRA+DA+otherPay+transportAllowance-professionTax-pf\n",
    "\n",
    "                \n",
    "        elif(gradeLevel==\"D\"):\n",
    "            basicPay=30000\n",
    "            otherPay=5000\n",
    "            DA=.5*basicPay\n",
    "            pf=0.11*basicPay\n",
    "            \n",
    "            if(cityLevel==1):\n",
    "                HRA=.3*basicPay\n",
    "            elif(cityLevel==2):\n",
    "                HRA=.2*basicPay\n",
    "            else:\n",
    "                HRA=.1*basicPay\n",
    "                \n",
    "            grossPay=basicPay+HRA+DA+otherPay+transportAllowance-professionTax-pf\n",
    "\n",
    "                \n",
    "        elif(gradeLevel==\"E\"):\n",
    "            basicPay=20000\n",
    "            otherPay=4000\n",
    "            DA=.5*basicPay\n",
    "            pf=0.11*basicPay\n",
    "            \n",
    "            if(cityLevel==1):\n",
    "                HRA=.3*basicPay\n",
    "            elif(cityLevel==2):\n",
    "                HRA=.2*basicPay\n",
    "            else:\n",
    "                HRA=.1*basicPay\n",
    "                \n",
    "            grossPay=basicPay+HRA+DA+otherPay+transportAllowance-professionTax-pf\n",
    "            \n",
    "\n",
    "        elif(gradeLevel==\"F\"):\n",
    "            basicPay=10000\n",
    "            otherPay=3000\n",
    "            DA=0.5*basicPay\n",
    "            pf=0.11*basicPay\n",
    "            \n",
    "            if(cityLevel==1):\n",
    "                HRA=.3*basicPay\n",
    "            elif(cityLevel==2):\n",
    "                HRA=.2*basicPay\n",
    "            else:\n",
    "                HRA=.1*basicPay\n",
    "                \n",
    "            grossPay=basicPay+HRA+DA+otherPay+transportAllowance-professionTax-pf\n",
    "\n",
    "            \n",
    "        else:\n",
    "            print(\"enter valid city level\")\n",
    "else:\n",
    "    print(\"enter valid grade level\")\n",
    "                \n",
    "a=grossPay\n",
    "annualPay=a*12\n",
    "\n",
    "if(annualPay<=250000):\n",
    "    tax=0\n",
    "elif(annualPay>250000 and annualPay<=500000):\n",
    "    tax=(annualPay-250000)*.05\n",
    "elif(annualPay>500000 and annualPay<=750000):\n",
    "    tax=((annualPay-500000)*.1)+12500\n",
    "elif(annualPay>750000 and annualPay<=1000000):\n",
    "    tax=((annualPay-750000)*.15)+37500\n",
    "elif(annualPay>1000000 and annualPay<=1250000):\n",
    "    tax=((annualPay-1000000)*.2)+75000\n",
    "elif(annualPay>1250000 and annualPay<=1500000):\n",
    "    tax=((annualPay-1250000)*.25)+125000\n",
    "else:\n",
    "    tax=((annualPay-1500000)*.3)+187500\n",
    "    \n",
    "print(\"tax=\",tax)\n",
    "print(\"annual income=\",annualPay)\n",
    "print(\"gross pay=\",a)\n"
   ]
  },
  {
   "cell_type": "code",
   "execution_count": 8,
   "metadata": {},
   "outputs": [
    {
     "name": "stdout",
     "output_type": "stream",
     "text": [
      "enter year: 2025\n",
      "enter month: 2\n",
      "enter day: 36\n",
      "enter valid day\n"
     ]
    }
   ],
   "source": [
    "#to get net day of the given day\n",
    "\n",
    "year=int(input(\"enter year: \"))\n",
    "month=int(input(\"enter month: \"))\n",
    "day=int(input(\"enter day: \"))\n",
    "valid=True\n",
    "\n",
    "if(month>=1 and month<=12):\n",
    "    \n",
    "    if(month==1 or month==3 or month==5 or month==7 or month==8 or month==10 or month==12):\n",
    "        if(day>=1 and day <=31):\n",
    "            day+=1\n",
    "            if(day>31):\n",
    "                day=1\n",
    "                month+=1\n",
    "                if(month>12):\n",
    "                    month=1\n",
    "                    year+=1\n",
    "        else:\n",
    "            print(\"enter valid day\")\n",
    "            valid=False\n",
    "            \n",
    "    elif month==2:\n",
    "        if((year%4==0 and year%100!=0) or (year%400==0)):\n",
    "            if(day>=1 and day<=29):\n",
    "                day+=1\n",
    "                if(day>29):\n",
    "                    day=1\n",
    "                    month+=1\n",
    "            else:\n",
    "                print(\"enter valid day\")\n",
    "                valid=False\n",
    "\n",
    "\n",
    "        else:\n",
    "            if(day>=1 and day<=28):\n",
    "                day+=1\n",
    "                if(day>28):\n",
    "                    day=1\n",
    "                    month+=1\n",
    "            else:\n",
    "                print(\"enter valid day\")\n",
    "                valid=False   \n",
    "    else:\n",
    "        if(day>=1 and day<=30):\n",
    "            day+=1\n",
    "            if(day>30):\n",
    "                day=1\n",
    "                month+=1\n",
    "        else:\n",
    "            print(\"enter valid day\")\n",
    "            valid=False\n",
    "            \n",
    "if(valid):\n",
    "    print(\"next date =\",day,\"/\",month,\"/\",year)\n"
   ]
  },
  {
   "cell_type": "code",
   "execution_count": 3,
   "metadata": {},
   "outputs": [
    {
     "name": "stdout",
     "output_type": "stream",
     "text": [
      "Enter no: 123\n",
      "234\n"
     ]
    }
   ],
   "source": [
    "# enter no. and do +1 in each value\n",
    "a=int(input(\"Enter no: \"))\n",
    "mul=1\n",
    "temp1=a\n",
    "sum=0\n",
    "\n",
    "while(a>0):\n",
    "    b=a%10\n",
    "    temp=(b+1)\n",
    "    if(temp>=10):\n",
    "        b=0\n",
    "        sum=sum+(b*mul)\n",
    "    else:\n",
    "        sum=sum+(temp*mul)\n",
    "    mul*=10\n",
    "    a=a//10\n",
    "        \n",
    "# print(temp1)\n",
    "print(sum)\n"
   ]
  },
  {
   "cell_type": "code",
   "execution_count": null,
   "metadata": {},
   "outputs": [],
   "source": []
  },
  {
   "cell_type": "code",
   "execution_count": null,
   "metadata": {},
   "outputs": [],
   "source": []
  },
  {
   "cell_type": "code",
   "execution_count": null,
   "metadata": {},
   "outputs": [],
   "source": []
  }
 ],
 "metadata": {
  "kernelspec": {
   "display_name": "Python 3",
   "language": "python",
   "name": "python3"
  },
  "language_info": {
   "codemirror_mode": {
    "name": "ipython",
    "version": 3
   },
   "file_extension": ".py",
   "mimetype": "text/x-python",
   "name": "python",
   "nbconvert_exporter": "python",
   "pygments_lexer": "ipython3",
   "version": "3.8.5"
  }
 },
 "nbformat": 4,
 "nbformat_minor": 4
}
