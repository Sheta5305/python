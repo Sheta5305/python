{
 "cells": [
  {
   "cell_type": "code",
   "execution_count": null,
   "metadata": {},
   "outputs": [],
   "source": [
    "# def function_name(parameter):\n",
    "#->body of function\n",
    "#->return value"
   ]
  },
  {
   "cell_type": "code",
   "execution_count": 1,
   "metadata": {},
   "outputs": [
    {
     "name": "stdout",
     "output_type": "stream",
     "text": [
      "hello\n"
     ]
    }
   ],
   "source": [
    "#eg:-\n",
    "def wish():\n",
    "    name=print(\"hello\")\n",
    "    \n",
    "wish()"
   ]
  },
  {
   "cell_type": "code",
   "execution_count": 2,
   "metadata": {},
   "outputs": [
    {
     "ename": "TypeError",
     "evalue": "wish() takes 0 positional arguments but 1 was given",
     "output_type": "error",
     "traceback": [
      "\u001b[1;31m---------------------------------------------------------------------------\u001b[0m",
      "\u001b[1;31mTypeError\u001b[0m                                 Traceback (most recent call last)",
      "\u001b[1;32m<ipython-input-2-a13153f1bd4a>\u001b[0m in \u001b[0;36m<module>\u001b[1;34m\u001b[0m\n\u001b[0;32m      3\u001b[0m     \u001b[0mname\u001b[0m\u001b[1;33m=\u001b[0m\u001b[0mprint\u001b[0m\u001b[1;33m(\u001b[0m\u001b[1;34m\"hello\"\u001b[0m\u001b[1;33m)\u001b[0m\u001b[1;33m\u001b[0m\u001b[1;33m\u001b[0m\u001b[0m\n\u001b[0;32m      4\u001b[0m \u001b[1;33m\u001b[0m\u001b[0m\n\u001b[1;32m----> 5\u001b[1;33m \u001b[0mwish\u001b[0m\u001b[1;33m(\u001b[0m\u001b[1;34m\"arman\"\u001b[0m\u001b[1;33m)\u001b[0m\u001b[1;33m\u001b[0m\u001b[1;33m\u001b[0m\u001b[0m\n\u001b[0m",
      "\u001b[1;31mTypeError\u001b[0m: wish() takes 0 positional arguments but 1 was given"
     ]
    }
   ],
   "source": [
    "#eg:-\n",
    "def wish():\n",
    "    name=print(\"hello\")\n",
    "    \n",
    "wish(\"arman\")"
   ]
  },
  {
   "cell_type": "code",
   "execution_count": 4,
   "metadata": {},
   "outputs": [
    {
     "name": "stdout",
     "output_type": "stream",
     "text": [
      "Enter Name: hello hi\n",
      "hello hi\n"
     ]
    }
   ],
   "source": [
    "# Different category of UDF\n",
    "# 1. function with no paramenter and no return type\n",
    "\n",
    "# eg:-\n",
    "def printline():\n",
    "    s=input (\"Enter Name: \")\n",
    "    print(s)\n",
    "printline()"
   ]
  },
  {
   "cell_type": "code",
   "execution_count": 5,
   "metadata": {},
   "outputs": [
    {
     "name": "stdout",
     "output_type": "stream",
     "text": [
      "Enter Name: heello hii\n",
      "heello hii\n"
     ]
    }
   ],
   "source": [
    "# 2. function with parameter and no return type \n",
    "\n",
    "#eg:-\n",
    "def printline(s):\n",
    "    print(s)\n",
    "x= input(\"Enter Name: \")\n",
    "printline(x)"
   ]
  },
  {
   "cell_type": "code",
   "execution_count": 7,
   "metadata": {},
   "outputs": [
    {
     "name": "stdout",
     "output_type": "stream",
     "text": [
      "Enter Name: heeelo hiie\n",
      "heeelo hiie\n"
     ]
    }
   ],
   "source": [
    "# 3. function with parameter and with return type\n",
    "\n",
    "#eg:-\n",
    "\n",
    "def printline(s):\n",
    "    return s\n",
    "x= input(\"Enter Name: \")\n",
    "t=printline(x)\n",
    "print(t)"
   ]
  },
  {
   "cell_type": "code",
   "execution_count": 8,
   "metadata": {},
   "outputs": [
    {
     "name": "stdout",
     "output_type": "stream",
     "text": [
      "Enter Namehellllo ji\n",
      "hellllo ji\n"
     ]
    }
   ],
   "source": [
    "#4. fuction with no parameter and with return type\n",
    "\n",
    "#eg:-\n",
    "def printline():\n",
    "    s=input(\"Enter Name\")\n",
    "    return s\n",
    "t=printline()\n",
    "print(t)"
   ]
  },
  {
   "cell_type": "code",
   "execution_count": 9,
   "metadata": {},
   "outputs": [
    {
     "name": "stdout",
     "output_type": "stream",
     "text": [
      "(30, 10, 200, 2.0)\n"
     ]
    }
   ],
   "source": [
    "def clac(a,b):\n",
    "    add=a+b\n",
    "    sub=a-b\n",
    "    mul=a*b\n",
    "    div=a/b\n",
    "    return add,sub,mul,div\n",
    "a=20\n",
    "b=10\n",
    "t=clac(a,b)\n",
    "print(t)"
   ]
  },
  {
   "cell_type": "code",
   "execution_count": 11,
   "metadata": {},
   "outputs": [
    {
     "name": "stdout",
     "output_type": "stream",
     "text": [
      "Enter No.5\n",
      "odd\n"
     ]
    }
   ],
   "source": [
    "def oddeven(s):\n",
    "    if s%2==0:\n",
    "        print(\"even\")\n",
    "    else:\n",
    "        print(\"odd\")\n",
    "a=int(input(\"Enter No.\"))\n",
    "oddeven(a)"
   ]
  },
  {
   "cell_type": "code",
   "execution_count": null,
   "metadata": {},
   "outputs": [],
   "source": []
  },
  {
   "cell_type": "code",
   "execution_count": null,
   "metadata": {},
   "outputs": [],
   "source": []
  },
  {
   "cell_type": "code",
   "execution_count": null,
   "metadata": {},
   "outputs": [],
   "source": []
  },
  {
   "cell_type": "code",
   "execution_count": null,
   "metadata": {},
   "outputs": [],
   "source": []
  }
 ],
 "metadata": {
  "kernelspec": {
   "display_name": "Python 3",
   "language": "python",
   "name": "python3"
  },
  "language_info": {
   "codemirror_mode": {
    "name": "ipython",
    "version": 3
   },
   "file_extension": ".py",
   "mimetype": "text/x-python",
   "name": "python",
   "nbconvert_exporter": "python",
   "pygments_lexer": "ipython3",
   "version": "3.8.5"
  }
 },
 "nbformat": 4,
 "nbformat_minor": 4
}
