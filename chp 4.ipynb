{
 "cells": [
  {
   "cell_type": "markdown",
   "metadata": {},
   "source": [
    "# immutable ds\n",
    "Accesing ch of string\n",
    "1) by using index\n",
    "2) by using slicing operator"
   ]
  },
  {
   "cell_type": "code",
   "execution_count": 8,
   "metadata": {},
   "outputs": [
    {
     "name": "stdout",
     "output_type": "stream",
     "text": [
      "u\n",
      "i\n",
      "l\n"
     ]
    }
   ],
   "source": [
    "# 1) by using index\n",
    "\n",
    "a=\"lj university\"\n",
    "print(a[3])\n",
    "print(a[-3])\n",
    "print(a[-0])"
   ]
  },
  {
   "cell_type": "code",
   "execution_count": 37,
   "metadata": {},
   "outputs": [
    {
     "name": "stdout",
     "output_type": "stream",
     "text": [
      "hlo\n",
      "hello \n",
      "hello w\n",
      " world good morning\n",
      "hello world good morning\n",
      "hello world good morning\n",
      "gninrom doog dlrow olleh\n",
      "gir\n",
      "\n"
     ]
    }
   ],
   "source": [
    "# 2) by using slicing operator\n",
    "\n",
    "s=\"hello world good morning\"\n",
    "# print(s[0:6:0]) error the shift cannot be zero\n",
    "print(s[0:6:2])\n",
    "print(s[0:6])\n",
    "print(s[:7])\n",
    "print(s[5:])\n",
    "print(s[::])\n",
    "print(s[:]) \n",
    "print(s[::-1]) #it will reverse the hole string\n",
    "print(s[-1:-6:-2])\n",
    "print(s[-1:-4:1])# it will not print anything"
   ]
  },
  {
   "cell_type": "markdown",
   "metadata": {},
   "source": [
    "# operator for string"
   ]
  },
  {
   "cell_type": "code",
   "execution_count": 40,
   "metadata": {},
   "outputs": [
    {
     "name": "stdout",
     "output_type": "stream",
     "text": [
      "inderjeet\n",
      "inderinderinderinderinder\n"
     ]
    }
   ],
   "source": [
    "# + -->concat\n",
    "# * -->repeatation of string\n",
    "print(\"inder\"+\"jeet\")\n",
    "print(5*\"inder\")"
   ]
  },
  {
   "cell_type": "code",
   "execution_count": 46,
   "metadata": {},
   "outputs": [
    {
     "name": "stdout",
     "output_type": "stream",
     "text": [
      "Enter first string:Inder\n",
      "Enter second string:Inder\n",
      "both are same\n"
     ]
    }
   ],
   "source": [
    "# comparison of string\n",
    "\n",
    "s1=input(\"Enter first string:\")\n",
    "s2=input(\"Enter second string:\")\n",
    "if s1==s2:\n",
    "    print(\"both are same\")\n",
    "elif s1<s2:\n",
    "    print(\"s2 is greater\")\n",
    "else:\n",
    "    print(\"first is greater\")"
   ]
  },
  {
   "cell_type": "code",
   "execution_count": 51,
   "metadata": {},
   "outputs": [
    {
     "name": "stdout",
     "output_type": "stream",
     "text": [
      "inder_inderjeet_inderjeet singh\n"
     ]
    }
   ],
   "source": [
    "# joining of string\n",
    "\n",
    "t=(\"inder\",\"inderjeet\",\"inderjeet singh\")\n",
    "x=\"_\".join(t)\n",
    "print(x)"
   ]
  },
  {
   "cell_type": "code",
   "execution_count": 56,
   "metadata": {},
   "outputs": [
    {
     "name": "stdout",
     "output_type": "stream",
     "text": [
      "100000000 age is inder and salary is 18\n"
     ]
    }
   ],
   "source": [
    "# formatting of string\n",
    "name=\"inder\"\n",
    "age=18\n",
    "salary=100000000\n",
    "print(\"{2} age is {0} and salary is {1}\".format(name,age,salary))"
   ]
  },
  {
   "cell_type": "markdown",
   "metadata": {},
   "source": [
    "# Function of String"
   ]
  },
  {
   "cell_type": "code",
   "execution_count": 14,
   "metadata": {},
   "outputs": [
    {
     "name": "stdout",
     "output_type": "stream",
     "text": [
      "5\n",
      "inder1\n",
      "inder\n",
      "7\n",
      "5\n",
      "bana1\n",
      "2anana\n",
      "INDER\n",
      "inder\n",
      "Hello Friends\n",
      "Hello bye\n",
      "False\n",
      "False\n",
      "True\n",
      "True\n",
      "False\n",
      "True\n",
      "True\n",
      "True\n",
      "2\n",
      "7\n",
      "-1\n",
      "7\n",
      "2\n",
      "2\n",
      "learning python is very easy\n",
      "['Lj', '', 'university']\n",
      "Lj\n",
      "\n",
      "university\n",
      "-1\n"
     ]
    }
   ],
   "source": [
    "# (length)\n",
    "s=\"inder\"\n",
    "print(len(s))\n",
    "\n",
    "# rstrip,lstrip,strip\n",
    "a=\"inder  \"\n",
    "b=\" inder1\"\n",
    "x=a.rstrip()\n",
    "y=b.lstrip()\n",
    "print(y)\n",
    "print(x)\n",
    "print(len(a))\n",
    "print(len(x))\n",
    "\n",
    "\n",
    "# testing \n",
    "t=\"bana1na\"\n",
    "x=t.rstrip(\"na\")\n",
    "print(x)\n",
    "\n",
    "t=\"1b12anana\"\n",
    "x=t.lstrip(\"bna1\")\n",
    "print(x)\n",
    "\n",
    "# uppercase\n",
    "s=\"inder\"\n",
    "s=s.upper()\n",
    "print(s)\n",
    "\n",
    "# lowercase\n",
    "s=\"INDER\"\n",
    "X=s.lower()\n",
    "print(X)\n",
    "\n",
    "# TITLE()\n",
    "t=\"hello friends\"\n",
    "x=t.title() # every letter of different word is changed to upper case\n",
    "print(x)\n",
    "\n",
    "# capitalize()\n",
    "t=\"hello bye\"\n",
    "x=t.capitalize()# only the first letter of string is changed to upper case\n",
    "print(x)\n",
    "\n",
    "# alpha numeric(isalnum)\n",
    "a=\"inder 123\"\n",
    "x=a.isalnum()\n",
    "print(x)\n",
    "\n",
    "# alpha(isalpha)\n",
    "a=\"inder123\"\n",
    "x=a.isalpha()\n",
    "print(x)\n",
    "\n",
    "# digit(isdigit)\n",
    "a=\"323\"\n",
    "x=a.isdigit()\n",
    "print(x)\n",
    "\n",
    "# numeric(isnumeric)\n",
    "a=\"1\"\n",
    "x=a.isnumeric()\n",
    "print(x)\n",
    "\n",
    "# islower()\n",
    "a=\"hhdhdjT\"\n",
    "x=a.islower()\n",
    "print(x)\n",
    "\n",
    "# istitle(only check the alpha)\n",
    "a=\"22 A 22\"\n",
    "x=a.istitle()\n",
    "print(x)\n",
    "\n",
    "# isidentifier(checks whether it can be used as variables name or not)\n",
    "a=\"_i2nder_1\"\n",
    "x=a.isidentifier()\n",
    "print(x)\n",
    "\n",
    "# isspace(works only when there is space)\n",
    "a=\" \"\n",
    "x=a.isspace()\n",
    "print(x)\n",
    "\n",
    "# find()\n",
    "s=\"1 a is ab\"\n",
    "print(s.find(\"a\"))\n",
    "print(s.find(\"a\",3,20))\n",
    "print(s.find(\"e\")) # -1 show word not there in string\n",
    "print(s.find(\"ab\"))\n",
    "\n",
    "\n",
    "# count()\n",
    "a=\"abcdehaab\"\n",
    "print(a.count(\"ab\"))\n",
    "print(a.count(\"a\",4,20))\n",
    "\n",
    "# replace uses list\n",
    "s=\"learning java is very easy\"\n",
    "s1=s.replace(\"java\",\"python\")\n",
    "print(s1)\n",
    "\n",
    "# split()\n",
    "s=\"Lj--university\"\n",
    "s1=s.split(\"-\")\n",
    "print(s1)\n",
    "for i in s1:\n",
    "    print(i)\n",
    "    \n",
    "\n"
   ]
  },
  {
   "cell_type": "code",
   "execution_count": 15,
   "metadata": {},
   "outputs": [
    {
     "name": "stdout",
     "output_type": "stream",
     "text": [
      "alpha: 16\n",
      "upper: 2\n",
      "lower: 14\n",
      "digit: 5\n",
      "space: 4\n",
      "spe: 4\n",
      "word: 5\n"
     ]
    }
   ],
   "source": [
    "s=\"Pyt@h$%on is 124 very Ea$st43\"\n",
    "alpha=upper=lower=digit=space=spe=word=0\n",
    "for i in s:\n",
    "    if i.isalpha():\n",
    "        alpha+=1\n",
    "        if i.islower():\n",
    "            lower+=1\n",
    "        else:\n",
    "            upper+=1 \n",
    "    elif i.isdigit():\n",
    "        digit+=1\n",
    "    elif i.isspace():\n",
    "        space+=1\n",
    "    else:\n",
    "        spe+=1\n",
    "print(\"alpha:\",alpha)\n",
    "print(\"upper:\",upper)\n",
    "print(\"lower:\",lower)\n",
    "print(\"digit:\",digit)\n",
    "print(\"space:\",space)\n",
    "print(\"spe:\",spe)\n",
    "print(\"word:\",space+1)"
   ]
  },
  {
   "cell_type": "code",
   "execution_count": 33,
   "metadata": {},
   "outputs": [
    {
     "name": "stdout",
     "output_type": "stream",
     "text": [
      "32\n",
      "!\"#$%&'()*+,-./:;<=>?@[\\]^_`{|}~\n",
      "{97: 98, 33: None, 34: None, 35: None, 36: None, 37: None, 38: None, 39: None, 40: None, 41: None, 42: None, 43: None, 44: None, 45: None, 46: None, 47: None, 58: None, 59: None, 60: None, 61: None, 62: None, 63: None, 64: None, 91: None, 92: None, 93: None, 94: None, 95: None, 96: None, 123: None, 124: None, 125: None, 126: None}\n",
      "----\n",
      "{33: None, 34: None, 35: None, 36: None, 37: None, 38: None, 39: None, 40: None, 41: None, 42: None, 43: None, 44: None, 45: None, 46: None, 47: None, 58: None, 59: None, 60: None, 61: None, 62: None, 63: None, 64: None, 91: None, 92: None, 93: None, 94: None, 95: None, 96: None, 123: None, 124: None, 125: None, 126: None}\n",
      "python is very easy\n",
      "----\n",
      "{109: 101, 115: 106, 97: 111}\n",
      "hi joe!!\n"
     ]
    }
   ],
   "source": [
    "# translate with make function\n",
    "import string\n",
    "print(len(string.punctuation))\n",
    "print(string.punctuation)\n",
    "print(str.maketrans(\"a\",\"b\",string.punctuation))\n",
    "\n",
    "print(\"----\")\n",
    "\n",
    "t=\"pyt@$hon is very$ easy!!\"\n",
    "x=str.maketrans(\"\",\"\",string.punctuation)\n",
    "# or x=str.maketrans(\"\",\"\",\"$\")\n",
    "print(x)\n",
    "t=t.translate(x)\n",
    "print(t)\n",
    "\n",
    "print(\"----\")\n",
    "\n",
    "t=\"hi sam!!\"\n",
    "x=\"msa\"\n",
    "y=\"ejo\"\n",
    "table=t.maketrans(x,y)\n",
    "print(table)\n",
    "print(t.translate(table))"
   ]
  },
  {
   "cell_type": "markdown",
   "metadata": {},
   "source": [
    "# Tuple"
   ]
  },
  {
   "cell_type": "markdown",
   "metadata": {},
   "source": [
    "same as list except it is immutable\n",
    "\n",
    "read only version of list\n",
    "\n",
    "data is fixed and never chabges the we should go for tuple\n",
    "\n",
    "insertion order is preserved\n",
    "\n",
    "duplicates are allowed\n",
    "\n",
    "heterogenous obj are allowed(multiple types data)\n",
    "\n",
    "index will play important role in tuple\n",
    "\n",
    "supports both +ve and -ve index\n",
    "\n",
    "represents with ()parenthasis with comma seprator"
   ]
  },
  {
   "cell_type": "code",
   "execution_count": 21,
   "metadata": {},
   "outputs": [
    {
     "name": "stdout",
     "output_type": "stream",
     "text": [
      "<class 'int'>\n",
      "<class 'float'>\n",
      "<class 'str'>\n",
      "(10, 12, 14, 16, 18, 20)\n"
     ]
    }
   ],
   "source": [
    "# creation of tuple\n",
    "# 1\n",
    "t=(10,4.5,\"inder\")\n",
    "for i in t:\n",
    "    print(type(i))\n",
    "    \n",
    "# 2 by giving the range\n",
    "t=tuple(range(10,21,2))\n",
    "print(t)"
   ]
  },
  {
   "cell_type": "markdown",
   "metadata": {},
   "source": [
    "## Accesing of tuple\n"
   ]
  },
  {
   "cell_type": "code",
   "execution_count": 10,
   "metadata": {},
   "outputs": [
    {
     "name": "stdout",
     "output_type": "stream",
     "text": [
      "30\n",
      "10\n",
      "10\n",
      "50\n",
      "(6, 9, 10)\n",
      "()\n",
      "()\n"
     ]
    }
   ],
   "source": [
    "# 1) by index\n",
    "t=(10,20,30,40,50)\n",
    "print(t[2])\n",
    "print(t[0])\n",
    "print(t[-0])\n",
    "print(t[-1])\n",
    "\n",
    "# 2) by using slicing operator\n",
    "t=(-2,-4,6,9,10)\n",
    "print(t[2:5])\n",
    "print(t[3:3:2])\n",
    "print(t[-1:-4:2])\n",
    "\n",
    "# immutability\n",
    "t=(10,20,30,40,50)\n",
    "# t[2]=60 error\n",
    "\n"
   ]
  },
  {
   "cell_type": "markdown",
   "metadata": {},
   "source": [
    "## Mathematical operation"
   ]
  },
  {
   "cell_type": "code",
   "execution_count": 60,
   "metadata": {},
   "outputs": [
    {
     "name": "stdout",
     "output_type": "stream",
     "text": [
      "(10, 20, 8, 9)\n",
      "(10, 20, 30, 10, 20, 30, 10, 20, 30)\n",
      "(10, 20, 30)\n"
     ]
    }
   ],
   "source": [
    "#  + --> concatation\n",
    "\n",
    "t1=(10,20)\n",
    "t2=(8,9)\n",
    "t1=t1+t2 # here order matters\n",
    "print(t1)\n",
    "\n",
    "#  * --> repetation\n",
    "t1=(10,20,30)\n",
    "print(t1*3)"
   ]
  },
  {
   "cell_type": "markdown",
   "metadata": {},
   "source": [
    "## Function for tuples "
   ]
  },
  {
   "cell_type": "code",
   "execution_count": 85,
   "metadata": {},
   "outputs": [
    {
     "name": "stdout",
     "output_type": "stream",
     "text": [
      "4\n",
      "2\n",
      "0\n",
      "[60, 50, 20, 10]\n",
      "10\n"
     ]
    }
   ],
   "source": [
    "# len()\n",
    "t=(10,20,60,50)\n",
    "print(len(t))\n",
    "\n",
    "# count()\n",
    "t=(10,20,20,50)\n",
    "print(t.count(20))\n",
    "\n",
    "# index()\n",
    "t=(10,20,60,50)\n",
    "print(t.index(10))\n",
    "\n",
    "# sorted()\n",
    "t=(10,20,60,50)\n",
    "print(sorted(t,reverse=True))\n",
    "\n",
    "# min max\n",
    "t=(10,20,60,50)\n",
    "print(min(t))"
   ]
  },
  {
   "cell_type": "code",
   "execution_count": 89,
   "metadata": {},
   "outputs": [
    {
     "name": "stdout",
     "output_type": "stream",
     "text": [
      "(10, 20, 40, 90)\n",
      "10 20 40 90\n"
     ]
    }
   ],
   "source": [
    "# tuple packing\n",
    "a=10\n",
    "b=20\n",
    "c=40\n",
    "d=90\n",
    "t=a,b,c,d\n",
    "print(t)\n",
    "A,B,C,D=t\n",
    "print(A,B,C,D)"
   ]
  },
  {
   "cell_type": "code",
   "execution_count": 5,
   "metadata": {},
   "outputs": [
    {
     "name": "stdout",
     "output_type": "stream",
     "text": [
      "apple\n",
      "banana\n",
      "cherry\n",
      "apple\n",
      "banana\n",
      "cherry\n",
      "apple\n",
      "banana\n",
      "cherry\n"
     ]
    }
   ],
   "source": [
    "# Loop through tuples\n",
    "t=(\"apple\",\"banana\",\"cherry\")\n",
    "for i in t:\n",
    "    print(i)\n",
    "    \n",
    "for i in range(len(t)):\n",
    "    print(t[i])\n",
    "\n",
    "i=0\n",
    "while i<len(t):\n",
    "    print(t[i])\n",
    "    i+=1\n"
   ]
  },
  {
   "cell_type": "code",
   "execution_count": 9,
   "metadata": {},
   "outputs": [
    {
     "name": "stdout",
     "output_type": "stream",
     "text": [
      "['n', 'o', 'h', 't', 'y', 'p']\n",
      "[8, 7, 6, 5]\n",
      "[7, 4, 3, 2, 1]\n"
     ]
    }
   ],
   "source": [
    "# reversed\n",
    "s=\"python\"\n",
    "print(list(reversed(s)))\n",
    "y=range(5,9)\n",
    "print(list(reversed(y)))\n",
    "z=[1,2,3,4,7]\n",
    "print(list(reversed(z)))"
   ]
  },
  {
   "cell_type": "code",
   "execution_count": 12,
   "metadata": {},
   "outputs": [
    {
     "name": "stdout",
     "output_type": "stream",
     "text": [
      "[(0, 'eat'), (1, 'sleep'), (2, 'repeat')]\n",
      "0 --> h\n",
      "1 --> e\n",
      "2 --> l\n",
      "3 --> l\n",
      "4 --> o\n",
      "5 -->  \n",
      "6 --> h\n",
      "7 --> o\n",
      "8 --> w\n",
      "9 -->  \n",
      "10 --> a\n",
      "11 --> r\n",
      "12 --> e\n",
      "13 -->  \n",
      "14 --> y\n",
      "15 --> o\n",
      "16 --> u\n",
      "17 --> !\n"
     ]
    }
   ],
   "source": [
    "# enumerate()\n",
    "l1=(\"eat\",\"sleep\",\"repeat\")\n",
    "print(list(enumerate(l1)))\n",
    "\n",
    "s=\"hello how are you!\"\n",
    "for a,b in enumerate(s):\n",
    "    print(a,\"-->\",b)"
   ]
  },
  {
   "cell_type": "markdown",
   "metadata": {},
   "source": [
    "============================================"
   ]
  },
  {
   "cell_type": "markdown",
   "metadata": {},
   "source": [
    "1) write a program to remove i charcter from string in python"
   ]
  },
  {
   "cell_type": "code",
   "execution_count": 1,
   "metadata": {},
   "outputs": [
    {
     "name": "stdout",
     "output_type": "stream",
     "text": [
      "Enter the index no:4\n",
      "hell world\n",
      "hell wrld\n"
     ]
    }
   ],
   "source": [
    "s=\"hello world\"\n",
    "i=int(input(\"Enter the index no:\"))\n",
    "n=\"\"\n",
    "for a,b in enumerate(s):\n",
    "    if a==i:\n",
    "        continue\n",
    "    else:\n",
    "        n=n+b\n",
    "print(n)\n",
    "\n",
    "j=s.replace(s[i],\"\")\n",
    "print(j)"
   ]
  },
  {
   "cell_type": "markdown",
   "metadata": {},
   "source": [
    "2)wap to find all occurence of substring in a given string by ignoring the case"
   ]
  },
  {
   "cell_type": "code",
   "execution_count": 7,
   "metadata": {},
   "outputs": [
    {
     "name": "stdout",
     "output_type": "stream",
     "text": [
      "Enter string:USA uSag\n",
      "Enter substring:usa\n",
      "2\n"
     ]
    }
   ],
   "source": [
    "n=input(\"Enter string:\")\n",
    "s=input(\"Enter substring:\")\n",
    "\n",
    "print(n.upper().count(s.upper()))"
   ]
  },
  {
   "cell_type": "markdown",
   "metadata": {},
   "source": [
    "3)wap a program to replace each special symbol with # in string"
   ]
  },
  {
   "cell_type": "code",
   "execution_count": 15,
   "metadata": {},
   "outputs": [
    {
     "name": "stdout",
     "output_type": "stream",
     "text": [
      "Enter string:656\n",
      "656"
     ]
    }
   ],
   "source": [
    "n=input(\"Enter string:\")\n",
    "for a,b in enumerate(n):\n",
    "    if(b.isalnum() or b.isspace()):\n",
    "        print(b,end=\"\")\n",
    "    else:\n",
    "        b=b.replace(b,\"#\")\n",
    "        print(b,end=\"\")\n"
   ]
  },
  {
   "cell_type": "markdown",
   "metadata": {},
   "source": [
    "4)wap to print min and max element in given tuples without min max concept"
   ]
  },
  {
   "cell_type": "code",
   "execution_count": 17,
   "metadata": {},
   "outputs": [
    {
     "name": "stdout",
     "output_type": "stream",
     "text": [
      "20 50\n"
     ]
    }
   ],
   "source": [
    "t=(10,40,50,20)\n",
    "mi=t[0]\n",
    "ma=t[0]\n",
    "for i in t:\n",
    "    if i>ma:\n",
    "        ma=i\n",
    "    elif i<mi:\n",
    "        mi=i\n",
    "print(mi,ma)"
   ]
  },
  {
   "cell_type": "markdown",
   "metadata": {},
   "source": [
    "5)wap to print even length words in given string"
   ]
  },
  {
   "cell_type": "code",
   "execution_count": 20,
   "metadata": {},
   "outputs": [
    {
     "name": "stdout",
     "output_type": "stream",
     "text": [
      "Enter stringhell\n",
      "h\n",
      "l\n"
     ]
    }
   ],
   "source": [
    "s=input(\"Enter string\")\n",
    "for i in range(len(s)):\n",
    "    if i%2==0:\n",
    "        print(s[i],end=\",\")"
   ]
  },
  {
   "cell_type": "markdown",
   "metadata": {},
   "source": [
    "6)wap to capitalize first and last letter of each word"
   ]
  },
  {
   "cell_type": "code",
   "execution_count": 43,
   "metadata": {},
   "outputs": [
    {
     "name": "stdout",
     "output_type": "stream",
     "text": [
      "Enter string:inder jeet singh\n",
      "IndeR JeeT SingH \n"
     ]
    }
   ],
   "source": [
    "s=input(\"Enter string:\")\n",
    "s=s.title()\n",
    "s1=s.split(\" \")\n",
    "result=\"\"\n",
    "for i in s1:\n",
    "    count=0\n",
    "    for j in i:\n",
    "        count+=1\n",
    "        if count==len(i):\n",
    "            result+=j.upper()\n",
    "        else:\n",
    "            result+=j\n",
    "    result+=\" \"\n",
    "print(result)"
   ]
  },
  {
   "cell_type": "markdown",
   "metadata": {},
   "source": [
    "7)wap to check if two strings are balanced or not "
   ]
  },
  {
   "cell_type": "code",
   "execution_count": 47,
   "metadata": {},
   "outputs": [
    {
     "name": "stdout",
     "output_type": "stream",
     "text": [
      "enter string 1:jet\n",
      "enter string 2:jeet1\n",
      "bal\n"
     ]
    }
   ],
   "source": [
    "s1=input(\"enter string 1:\")\n",
    "s2=input(\"enter string 2:\")\n",
    "result=False\n",
    "for i in s1:\n",
    "    if s2.find(i)>0:\n",
    "        result=True\n",
    "    else:\n",
    "        result=False\n",
    "if result:\n",
    "    print(\"bal\")\n",
    "else:\n",
    "    print(\"not\")"
   ]
  },
  {
   "cell_type": "markdown",
   "metadata": {},
   "source": [
    "8)wap to shift the decimal digit and places to the left \n",
    "wapping the extra digit around if shift is >num of digit then reverse \n"
   ]
  },
  {
   "cell_type": "code",
   "execution_count": 52,
   "metadata": {},
   "outputs": [
    {
     "name": "stdout",
     "output_type": "stream",
     "text": [
      "enter the number:12345\n",
      "enter shift:3\n",
      "45123\n"
     ]
    }
   ],
   "source": [
    "num=input(\"enter the number:\")\n",
    "s=int(input(\"enter shift:\"))\n",
    "n=str(num)\n",
    "rev=b=0\n",
    "if s>len(n):\n",
    "     rev=n[::-1]\n",
    "     print(rev)\n",
    "else:\n",
    "     rev=n[s::]+n[:s]\n",
    "     print(rev)"
   ]
  },
  {
   "cell_type": "markdown",
   "metadata": {},
   "source": [
    "9)wap to check validity of a password"
   ]
  },
  {
   "cell_type": "code",
   "execution_count": null,
   "metadata": {},
   "outputs": [],
   "source": [
    "passs=input(\"Enter password:\")\n",
    "countx=countu=countas=countn=0\n",
    "s=\"_@$\"\n",
    "valid=0\n",
    "if len(passs)>=8:\n",
    "        for i in passs: \n",
    "            if i.islower() and i.isalpha():\n",
    "                countx+=1\n",
    "            if i.isupper():\n",
    "                countu+=1\n",
    "            if i.isdigit():\n",
    "                countn+=1\n",
    "            if i in s:\n",
    "                countas+=1\n",
    "                \n",
    "if countx>=1 and countu>=1 and countas>=1 and countn>=1:\n",
    "        print(\"valid\")\n",
    "else:\n",
    "        print(\"not\")"
   ]
  },
  {
   "cell_type": "code",
   "execution_count": 6,
   "metadata": {},
   "outputs": [
    {
     "name": "stdout",
     "output_type": "stream",
     "text": [
      "index: 0\n",
      "index: 3\n",
      "index: 7\n",
      "occurance: 3\n"
     ]
    }
   ],
   "source": [
    "s=\"abcabcdabxyz\"\n",
    "sub=\"a\"\n",
    "oc=0\n",
    "j=0\n",
    "for i in s:\n",
    "    if i==sub:\n",
    "        oc+=1\n",
    "        print(\"index:\",j)\n",
    "    j+=1\n",
    "print(\"occurance:\",oc)"
   ]
  },
  {
   "cell_type": "markdown",
   "metadata": {},
   "source": [
    " write a program to sort character of the string and first alphabet symbol followed by numeric values\n"
   ]
  },
  {
   "cell_type": "code",
   "execution_count": 25,
   "metadata": {},
   "outputs": [
    {
     "name": "stdout",
     "output_type": "stream",
     "text": [
      "abd134\n"
     ]
    }
   ],
   "source": [
    "s=\"b4a1d3\"\n",
    "s1=\"\"\n",
    "s2=\"\"\n",
    "for i in s:\n",
    "    if i.isalpha():\n",
    "        s1=s1+i\n",
    "    elif i.isdigit():\n",
    "        s2=s2+i\n",
    "output=\"\"    \n",
    "for i in sorted(s1):\n",
    "    output+=i\n",
    "for i in sorted(s2):\n",
    "    output+=i\n",
    "print(output)"
   ]
  },
  {
   "cell_type": "code",
   "execution_count": 46,
   "metadata": {},
   "outputs": [
    {
     "name": "stdout",
     "output_type": "stream",
     "text": [
      "aaaabbbcc\n"
     ]
    }
   ],
   "source": [
    "s=\"a4b3c2\"\n",
    "b=\"\"\n",
    "k=0\n",
    "c=0\n",
    "for i in s:\n",
    "    c+=1\n",
    "for i in s:\n",
    "    if k==c:\n",
    "        break\n",
    "    b+=s[k]*int(s[k+1])\n",
    "    k+=2\n",
    "print(b)"
   ]
  },
  {
   "cell_type": "markdown",
   "metadata": {},
   "source": [
    "wap to count no of strings where the string length is 3 or more and the first and last character are same from a \n",
    "given list of stringd"
   ]
  },
  {
   "cell_type": "code",
   "execution_count": 48,
   "metadata": {},
   "outputs": [
    {
     "name": "stdout",
     "output_type": "stream",
     "text": [
      "aba\n",
      "2112\n",
      "123451\n"
     ]
    }
   ],
   "source": [
    "l=[\"abc\",\"xyz\",\"aba\",\"2112\",\"123451\",\"12345\"]\n",
    "for i in l:\n",
    "    if len(i)>=3:\n",
    "        if i[0]==i[len(i)-1]:\n",
    "            print(i)"
   ]
  },
  {
   "cell_type": "code",
   "execution_count": null,
   "metadata": {},
   "outputs": [],
   "source": []
  }
 ],
 "metadata": {
  "kernelspec": {
   "display_name": "Python 3",
   "language": "python",
   "name": "python3"
  },
  "language_info": {
   "codemirror_mode": {
    "name": "ipython",
    "version": 3
   },
   "file_extension": ".py",
   "mimetype": "text/x-python",
   "name": "python",
   "nbconvert_exporter": "python",
   "pygments_lexer": "ipython3",
   "version": "3.8.5"
  }
 },
 "nbformat": 4,
 "nbformat_minor": 4
}
