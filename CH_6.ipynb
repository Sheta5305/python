{
 "cells": [
  {
   "cell_type": "code",
   "execution_count": 2,
   "metadata": {},
   "outputs": [],
   "source": [
    "# working with files\n",
    "\n",
    "# python inbulit function:\n",
    "# -create\n",
    "# -read\n",
    "# -write\n",
    "\n",
    "# types of files:-\n",
    "# 1) text file\n",
    "# 2) binary file"
   ]
  },
  {
   "cell_type": "code",
   "execution_count": 17,
   "metadata": {},
   "outputs": [
    {
     "name": "stdout",
     "output_type": "stream",
     "text": [
      "hello hi\n",
      "False\n",
      "True\n"
     ]
    }
   ],
   "source": [
    "f=open(\"demo.txt\",\"r\")\n",
    "print(f.read())\n",
    "print(f.closed)\n",
    "f.close()\n",
    "print(f.closed)"
   ]
  },
  {
   "cell_type": "code",
   "execution_count": 18,
   "metadata": {},
   "outputs": [
    {
     "name": "stdout",
     "output_type": "stream",
     "text": [
      "hello hi\n",
      "False\n",
      "True\n"
     ]
    }
   ],
   "source": [
    "with open(\"demo.txt\",\"r\") as f:\n",
    "    print(f.read())\n",
    "    print(f.closed)\n",
    "print(f.closed)"
   ]
  },
  {
   "cell_type": "code",
   "execution_count": null,
   "metadata": {},
   "outputs": [],
   "source": [
    "# opeaning files\n",
    "\n",
    "# 1) Reading (r,r+)\n",
    "\n",
    "# inital position beginning\n",
    "# if file does not exist then gives error\n",
    "# default mode\n",
    "\n",
    "# 2) Writting (w)\n",
    "\n",
    "# if truncate then(w):= if file not exist the create a new file\n",
    "# if not truncate(a):= inital position end , if file not exist then create new file\n",
    "\n",
    "# 3) Reading and Writting\n",
    "\n",
    "# if truncate then (w+)\n",
    "# if not truncate then:= # if intial position at begining then (rt)\n",
    "                         # if intial position at end then (a+)\n",
    "    \n",
    "    "
   ]
  },
  {
   "cell_type": "code",
   "execution_count": null,
   "metadata": {},
   "outputs": [],
   "source": [
    "'''\n",
    "   operation/modes          r    r+   w   w+   a   a+\n",
    "\n",
    "   read                     *    *        *         *\n",
    "   \n",
    "   write                         *    *   *    *    *\n",
    "   \n",
    "   create                             *   *    *    *\n",
    "   \n",
    "   truncate                           *   *\n",
    "   \n",
    "   position at beginng     *     *    *   *\n",
    "   \n",
    "   position at end                             *    *\n",
    "   \n",
    "   '''"
   ]
  },
  {
   "cell_type": "code",
   "execution_count": 26,
   "metadata": {},
   "outputs": [
    {
     "name": "stdout",
     "output_type": "stream",
     "text": [
      "good is pythongood\n"
     ]
    }
   ],
   "source": [
    "f=open(\"demo.txt\",\"r+\")\n",
    "f.write(\"good\")\n",
    "f.close()\n",
    "f=open(\"demo.txt\",\"r\")\n",
    "print(f.read())"
   ]
  },
  {
   "cell_type": "code",
   "execution_count": 30,
   "metadata": {},
   "outputs": [
    {
     "data": {
      "text/plain": [
       "'This is Python 1\\nThis is Python 2\\nThis is Python 3\\nThis is Python 4\\n\\n'"
      ]
     },
     "execution_count": 30,
     "metadata": {},
     "output_type": "execute_result"
    }
   ],
   "source": [
    "f=open(\"demo.txt\",\"r+\")\n",
    "f.read()"
   ]
  },
  {
   "cell_type": "code",
   "execution_count": 31,
   "metadata": {},
   "outputs": [
    {
     "name": "stdout",
     "output_type": "stream",
     "text": [
      "This is Python 1\n",
      "This is Python 2\n",
      "This is Python 3\n",
      "This is Python 4\n",
      "\n",
      "\n"
     ]
    }
   ],
   "source": [
    "f=open(\"demo.txt\",\"r+\")\n",
    "print(f.read())"
   ]
  },
  {
   "cell_type": "code",
   "execution_count": 33,
   "metadata": {},
   "outputs": [
    {
     "name": "stdout",
     "output_type": "stream",
     "text": [
      "This is Python 1\n",
      "This is Python 2\n",
      "This is Python 3\n",
      "This is Python 4\n",
      "\n",
      "\n",
      "is Python 1\n",
      "This is Python 2\n",
      "This is Python 3\n",
      "This is Python 4\n",
      "\n",
      "\n"
     ]
    }
   ],
   "source": [
    "f=open(\"demo.txt\",\"r+\")\n",
    "print(f.read())\n",
    "f.seek(5) # 5 is index\n",
    "print(f.read())"
   ]
  },
  {
   "cell_type": "code",
   "execution_count": 34,
   "metadata": {},
   "outputs": [
    {
     "name": "stdout",
     "output_type": "stream",
     "text": [
      "This is Python 1\n",
      "This is Python 2\n",
      "This is Python 3\n",
      "This is Python 4\n",
      "\n",
      "\n",
      "69\n",
      "0\n",
      "This is Python 1\n",
      "This is Python 2\n",
      "This is Python 3\n",
      "This is Python 4\n",
      "\n",
      "\n"
     ]
    }
   ],
   "source": [
    "f=open(\"demo.txt\",\"r+\")\n",
    "print(f.read())\n",
    "print(f.tell())\n",
    "f.seek(0) \n",
    "print(f.tell())\n",
    "print(f.read())\n"
   ]
  },
  {
   "cell_type": "code",
   "execution_count": 36,
   "metadata": {},
   "outputs": [
    {
     "name": "stdout",
     "output_type": "stream",
     "text": [
      "This is Python 1\n",
      "This is Python 2\n",
      "This is Python 3\n",
      "This is Python 4\n",
      "\n",
      "\n",
      "This is Python 1\n",
      "\n",
      "['This is Python 2\\n', 'This is Python 3\\n', 'This is Python 4\\n', '\\n']\n"
     ]
    }
   ],
   "source": [
    "f=open(\"demo.txt\",\"r+\")\n",
    "print(f.read())\n",
    "f.seek(0)\n",
    "print(f.readline())\n",
    "print(f.readlines())\n",
    "f.close()"
   ]
  },
  {
   "cell_type": "code",
   "execution_count": 38,
   "metadata": {},
   "outputs": [
    {
     "name": "stdout",
     "output_type": "stream",
     "text": [
      "This is Python 1\n",
      "This is Python 2\n",
      "This is Python 3\n",
      "This is Python 4\n",
      "\n",
      "\n",
      "This is Python 2\n",
      "\n"
     ]
    }
   ],
   "source": [
    "f=open(\"demo.txt\",\"r+\")\n",
    "print(f.read())\n",
    "f.seek(17)\n",
    "print(f.readline())"
   ]
  },
  {
   "cell_type": "code",
   "execution_count": 47,
   "metadata": {},
   "outputs": [
    {
     "name": "stdout",
     "output_type": "stream",
     "text": [
      "This is Python 1\n",
      "This is Python 2\n",
      "This is Python 3\n",
      "This is Python 4\n",
      "\n",
      "\n",
      "\n",
      "\n",
      "['This is Python 2\\n', 'This is Python 3\\n', 'This is Python 4\\n', '\\n']\n"
     ]
    }
   ],
   "source": [
    "f=open(\"demo.txt\",\"r+\")\n",
    "print(f.read())\n",
    "f.seek(16)\n",
    "print(f.readline())# it is consisdering the space after the sentence due to seek(16)\n",
    "print(f.readlines())"
   ]
  },
  {
   "cell_type": "code",
   "execution_count": 48,
   "metadata": {},
   "outputs": [
    {
     "name": "stdout",
     "output_type": "stream",
     "text": [
      "This \n",
      "is Python \n",
      "1\n",
      "T\n",
      "his is Python 2\n",
      "This\n"
     ]
    }
   ],
   "source": [
    "f=open(\"demo.txt\",\"r+\")\n",
    "print(f.read(5))\n",
    "print(f.read(10))\n",
    "print(f.read(3))\n",
    "print(f.read(20))"
   ]
  },
  {
   "cell_type": "code",
   "execution_count": 49,
   "metadata": {},
   "outputs": [
    {
     "name": "stdout",
     "output_type": "stream",
     "text": [
      "This is Python 1\n",
      "\n",
      "This is Python 2\n",
      "\n"
     ]
    }
   ],
   "source": [
    "f=open(\"demo.txt\",\"r\")\n",
    "print(f.readline())\n",
    "print(f.readline())\n"
   ]
  },
  {
   "cell_type": "code",
   "execution_count": 52,
   "metadata": {},
   "outputs": [
    {
     "name": "stdout",
     "output_type": "stream",
     "text": [
      "This \n",
      "is Pytho\n",
      "n 1\n",
      "\n",
      "This is Python 2\n",
      "\n",
      "This \n",
      "is Python 3\n",
      "\n"
     ]
    }
   ],
   "source": [
    "f=open(\"demo.txt\",\"r\")\n",
    "print(f.readline(5))\n",
    "print(f.readline(8))\n",
    "print(f.readline(10)) # first line\n",
    "\n",
    "print(f.readline(20)) # second line\n",
    "\n",
    "print(f.readline(5)) # thied line\n",
    "print(f.readline(50))\n"
   ]
  },
  {
   "cell_type": "code",
   "execution_count": 58,
   "metadata": {},
   "outputs": [
    {
     "name": "stdout",
     "output_type": "stream",
     "text": [
      "['This is Python 1\\n', 'This is Python 2\\n']\n"
     ]
    }
   ],
   "source": [
    "f=open(\"demo.txt\")\n",
    "print(f.readlines(30))"
   ]
  },
  {
   "cell_type": "code",
   "execution_count": 60,
   "metadata": {},
   "outputs": [
    {
     "name": "stdout",
     "output_type": "stream",
     "text": [
      "['This is Python 1\\n', 'This is Python 2\\n']\n"
     ]
    }
   ],
   "source": [
    "f=open(\"demo.txt\")\n",
    "print(f.readlines(19))"
   ]
  },
  {
   "cell_type": "code",
   "execution_count": 61,
   "metadata": {},
   "outputs": [
    {
     "name": "stdout",
     "output_type": "stream",
     "text": [
      "['This is Python 1\\n', 'This is Python 2\\n']\n"
     ]
    }
   ],
   "source": [
    "f=open(\"demo.txt\")\n",
    "print(f.readlines(25))"
   ]
  },
  {
   "cell_type": "code",
   "execution_count": 62,
   "metadata": {},
   "outputs": [
    {
     "name": "stdout",
     "output_type": "stream",
     "text": [
      "['This is Python 1\\n', 'This is Python 2\\n', 'This is Python 3\\n']\n"
     ]
    }
   ],
   "source": [
    "f=open(\"demo.txt\")\n",
    "print(f.readlines(36))"
   ]
  },
  {
   "cell_type": "code",
   "execution_count": 64,
   "metadata": {},
   "outputs": [
    {
     "name": "stdout",
     "output_type": "stream",
     "text": [
      "['This is Python 1\\n', 'This is Python 2\\n', 'This is Python 3\\n']\n"
     ]
    }
   ],
   "source": [
    "f=open(\"demo.txt\")\n",
    "print(f.readlines(40))"
   ]
  },
  {
   "cell_type": "code",
   "execution_count": 63,
   "metadata": {},
   "outputs": [
    {
     "name": "stdout",
     "output_type": "stream",
     "text": [
      "['This is Python 1\\n', 'This is Python 2\\n', 'This is Python 3\\n', 'This is Python 4\\n']\n"
     ]
    }
   ],
   "source": [
    "f=open(\"demo.txt\")\n",
    "print(f.readlines(60))"
   ]
  },
  {
   "cell_type": "code",
   "execution_count": 65,
   "metadata": {},
   "outputs": [
    {
     "name": "stdout",
     "output_type": "stream",
     "text": [
      "['This is Python 1\\n']\n"
     ]
    }
   ],
   "source": [
    "f=open(\"demo.txt\")\n",
    "print(f.readlines(16))"
   ]
  },
  {
   "cell_type": "code",
   "execution_count": 66,
   "metadata": {},
   "outputs": [
    {
     "name": "stdout",
     "output_type": "stream",
     "text": [
      "['This is Python 1\\n', 'This is Python 2\\n']\n"
     ]
    }
   ],
   "source": [
    "f=open(\"demo.txt\")\n",
    "print(f.readlines(17))"
   ]
  },
  {
   "cell_type": "code",
   "execution_count": 70,
   "metadata": {},
   "outputs": [
    {
     "name": "stdout",
     "output_type": "stream",
     "text": [
      "['This is Python 1\\n', 'This is Python 2\\n', 'This is Python 3\\n', 'This is Python 4\\n', '\\n']\n",
      "69\n"
     ]
    }
   ],
   "source": [
    "f=open(\"demo.txt\")\n",
    "print(f.readlines())\n",
    "print(f.tell())"
   ]
  },
  {
   "cell_type": "code",
   "execution_count": 69,
   "metadata": {},
   "outputs": [
    {
     "name": "stdout",
     "output_type": "stream",
     "text": [
      "['This is Python 1\\n', 'This is Python 2\\n']\n"
     ]
    },
    {
     "ename": "OSError",
     "evalue": "telling position disabled by next() call",
     "output_type": "error",
     "traceback": [
      "\u001b[1;31m---------------------------------------------------------------------------\u001b[0m",
      "\u001b[1;31mOSError\u001b[0m                                   Traceback (most recent call last)",
      "\u001b[1;32m<ipython-input-69-e5853c0b2b12>\u001b[0m in \u001b[0;36m<module>\u001b[1;34m\u001b[0m\n\u001b[0;32m      1\u001b[0m \u001b[0mf\u001b[0m\u001b[1;33m=\u001b[0m\u001b[0mopen\u001b[0m\u001b[1;33m(\u001b[0m\u001b[1;34m\"demo.txt\"\u001b[0m\u001b[1;33m)\u001b[0m\u001b[1;33m\u001b[0m\u001b[1;33m\u001b[0m\u001b[0m\n\u001b[0;32m      2\u001b[0m \u001b[0mprint\u001b[0m\u001b[1;33m(\u001b[0m\u001b[0mf\u001b[0m\u001b[1;33m.\u001b[0m\u001b[0mreadlines\u001b[0m\u001b[1;33m(\u001b[0m\u001b[1;36m20\u001b[0m\u001b[1;33m)\u001b[0m\u001b[1;33m)\u001b[0m\u001b[1;33m\u001b[0m\u001b[1;33m\u001b[0m\u001b[0m\n\u001b[1;32m----> 3\u001b[1;33m \u001b[0mprint\u001b[0m\u001b[1;33m(\u001b[0m\u001b[0mf\u001b[0m\u001b[1;33m.\u001b[0m\u001b[0mtell\u001b[0m\u001b[1;33m(\u001b[0m\u001b[1;33m)\u001b[0m\u001b[1;33m)\u001b[0m\u001b[1;33m\u001b[0m\u001b[1;33m\u001b[0m\u001b[0m\n\u001b[0m",
      "\u001b[1;31mOSError\u001b[0m: telling position disabled by next() call"
     ]
    }
   ],
   "source": [
    "f=open(\"demo.txt\")\n",
    "print(f.readlines(20))\n",
    "print(f.tell())"
   ]
  },
  {
   "cell_type": "code",
   "execution_count": 71,
   "metadata": {},
   "outputs": [
    {
     "name": "stdout",
     "output_type": "stream",
     "text": [
      "This is Python 1\n",
      "\n",
      "17\n"
     ]
    }
   ],
   "source": [
    "f=open(\"demo.txt\")\n",
    "print(f.readline())\n",
    "print(f.tell())"
   ]
  },
  {
   "cell_type": "code",
   "execution_count": 73,
   "metadata": {},
   "outputs": [
    {
     "name": "stdout",
     "output_type": "stream",
     "text": [
      "This is Python\n",
      "14\n"
     ]
    }
   ],
   "source": [
    "f=open(\"demo.txt\")\n",
    "print(f.readline(14))\n",
    "print(f.tell())"
   ]
  },
  {
   "cell_type": "code",
   "execution_count": 75,
   "metadata": {},
   "outputs": [
    {
     "data": {
      "text/plain": [
       "5"
      ]
     },
     "execution_count": 75,
     "metadata": {},
     "output_type": "execute_result"
    }
   ],
   "source": [
    "f=open(\"b2.txt\",\"w\")\n",
    "f.write(\"hello\") # if you run this code once then file will be create but content will be not there\n",
    "                 # if you run this code twice then content will appear\n",
    "    \n",
    "# for this we have to close the file so it will write and create both in one run"
   ]
  },
  {
   "cell_type": "code",
   "execution_count": 78,
   "metadata": {},
   "outputs": [],
   "source": [
    "f=open(\"b2.txt\",\"w\")\n",
    "f.write(\"hello hiii\")\n",
    "f.write(\"\\nbhsi\")\n",
    "f.close()"
   ]
  },
  {
   "cell_type": "code",
   "execution_count": 4,
   "metadata": {},
   "outputs": [
    {
     "name": "stdout",
     "output_type": "stream",
     "text": [
      "enter no. 3\n",
      "enter name: hello\n",
      "enter name: hii\n",
      "enter name: hye\n"
     ]
    }
   ],
   "source": [
    "f=open(\"task.txt\",\"w\")\n",
    "r=int(input(\"enter no. \"))\n",
    "i=0\n",
    "while i<r:\n",
    "    name=input(\"enter name: \")\n",
    "    f.write(name+\"\\n\")\n",
    "    i=i+1\n",
    "f.close()"
   ]
  },
  {
   "cell_type": "code",
   "execution_count": 5,
   "metadata": {},
   "outputs": [],
   "source": [
    "f=open(\"be.txt\",\"w\")\n",
    "l=[\"A\\n\",\"B\\n\",\"C\\n\",\"D\"]\n",
    "f.writelines(l)\n",
    "f.close()"
   ]
  },
  {
   "cell_type": "code",
   "execution_count": 7,
   "metadata": {},
   "outputs": [
    {
     "name": "stdout",
     "output_type": "stream",
     "text": [
      "enter no. 3\n",
      "enter name: a\n",
      "enter name: v\n",
      "enter name: c\n",
      "['a\\n', 'v\\n', 'c\\n']\n"
     ]
    }
   ],
   "source": [
    "f=open(\"ne.txt\",\"w\")\n",
    "r=int(input(\"enter no. \"))\n",
    "l=[]\n",
    "i=0\n",
    "while i<r:\n",
    "    name=input(\"enter name: \")\n",
    "    l.append(name+\"\\n\")\n",
    "    i=i+1\n",
    "print(l)\n",
    "f.writelines(l)\n",
    "f.close()"
   ]
  },
  {
   "cell_type": "code",
   "execution_count": 8,
   "metadata": {},
   "outputs": [],
   "source": [
    "# copying content of one file to another file\n",
    "\n",
    "f2=open(\"n2.txt\",\"w\")\n",
    "c=open(\"ne.txt\",\"r\")\n",
    "f2.write(c.read())\n",
    "f2.close()\n",
    "c.close()"
   ]
  },
  {
   "cell_type": "code",
   "execution_count": 13,
   "metadata": {},
   "outputs": [],
   "source": [
    "# write a dictonary to a file \n",
    "\n",
    "f=open(\"n3.txt\",\"w\")\n",
    "l={'name':\"alice\",'age':20,'degree':\"CSE\",'uni':\"oxford\"}\n",
    "key=l.keys()\n",
    "for i in key:\n",
    "    f.write(i+\":\"+str(l[i])+\"\\n\")\n",
    "f.close()"
   ]
  },
  {
   "cell_type": "code",
   "execution_count": 15,
   "metadata": {},
   "outputs": [],
   "source": [
    "# write a program to copy content of one file to another file in upper case\n",
    "\n",
    "f3=open(\"n4.txt\",\"w\")\n",
    "f4=open(\"ne.txt\",\"r\")\n",
    "s=f4.read()\n",
    "f3.write(s.upper())\n",
    "f3.close()"
   ]
  },
  {
   "cell_type": "code",
   "execution_count": 31,
   "metadata": {},
   "outputs": [],
   "source": [
    "# to reverse the content of file and store it in another file\n",
    "\n",
    "f=open(\"n3.txt\",\"r\")\n",
    "s=f.read()\n",
    "f=open(\"n5.txt\",\"w\")\n",
    "f.write(s[::-1])\n",
    "f.close()"
   ]
  },
  {
   "cell_type": "code",
   "execution_count": null,
   "metadata": {},
   "outputs": [],
   "source": [
    "# reverse the content of file linewise\n",
    "f=open(\"n3.txt\",\"r\")\n",
    "s=f.readlines()\n",
    "f=open(\"n4.txt\",\"w\")\n",
    "for i in s:\n",
    "    c=str(i)\n",
    "    f.write(c[::-1])    \n",
    "f.close()"
   ]
  },
  {
   "cell_type": "code",
   "execution_count": 33,
   "metadata": {},
   "outputs": [],
   "source": [
    "# to copy  odd line from one line to another line\n",
    "f=open(\"ne.txt\",\"r\")\n",
    "s=f.readlines()\n",
    "f2=open(\"nEven.txt\",\"w\")\n",
    "f3=open(\"nOdd.txt\",\"w\")\n",
    "\n",
    "for i in range(len(s)):\n",
    "    if i%2!=0:\n",
    "        f2.write(s[i])\n",
    "    else:\n",
    "        f3.write(s[i])\n",
    "        \n",
    "f2.close()\n",
    "f3.close()\n",
    "f.close()\n"
   ]
  },
  {
   "cell_type": "code",
   "execution_count": 12,
   "metadata": {},
   "outputs": [
    {
     "name": "stdout",
     "output_type": "stream",
     "text": [
      "enter file name: ne.txt\n",
      "hello\n",
      "\n",
      "hi\n",
      "\n",
      "how are you\n",
      "\n",
      "i am fine \n",
      "\n",
      "thank you\n",
      "\n",
      "enter anything to print 5 for line :k\n",
      "so \n",
      "\n",
      "why are you here\n",
      "\n",
      "no any issue \n",
      "\n",
      "here for nothing\n",
      "\n",
      "enter anything to print 5 for line :d\n",
      "no more line\n"
     ]
    }
   ],
   "source": [
    "# write a pager program your solution from a file name and display the text file 5 lines at a time causing each \n",
    "# time to ask the user to press any key to contiune and press q to quit\n",
    "\n",
    "name=input(\"enter file name: \")\n",
    "f=open(name,\"r\")\n",
    "l=f.readlines()\n",
    "\n",
    "for i in range(0,5):\n",
    "    print(l[i])\n",
    "    \n",
    "s=\"\"\n",
    "p=5\n",
    "\n",
    "while s!=\"q\":\n",
    "    s=input(\"enter anything to print 5 for line :\")\n",
    "    if s==\"q\":\n",
    "        break\n",
    "    else:\n",
    "        if p<len(l):\n",
    "            for i in range(p,p+5):\n",
    "                if i<len(l):\n",
    "                    print(l[i])\n",
    "                else:\n",
    "                    break\n",
    "        else:\n",
    "            print(\"no more line\")\n",
    "            break\n",
    "    p+=5"
   ]
  },
  {
   "cell_type": "code",
   "execution_count": 5,
   "metadata": {},
   "outputs": [],
   "source": [
    "# transfer 2 files data into one file\n",
    "\n",
    "f1=open(\"nEven.txt\",\"r\")\n",
    "f2=open(\"nOdd.txt\",\"r\")\n",
    "f=open(\"n7.txt\",\"w\")\n",
    "f.write(\"first file\\n\"+f1.read())\n",
    "f.write(\"second file\\n\"+f2.read())\n",
    "f.close()"
   ]
  },
  {
   "cell_type": "code",
   "execution_count": 1,
   "metadata": {},
   "outputs": [],
   "source": [
    "# to display all line of a file except those with # sign\n",
    "\n",
    "f=open(\"nEven.txt\",\"r\")\n",
    "f1=open(\"n8.txt\",\"w\")\n",
    "l=f.readlines()\n",
    "\n",
    "for i in range(0,len(l)):\n",
    "    for j in range(0,len(l[i])):\n",
    "        if l[i][j]==\"#\":\n",
    "            break\n",
    "        else:\n",
    "            f1.write(l[i][j])\n",
    "    f1.write(\"\\n\")\n",
    "f1.close()"
   ]
  },
  {
   "cell_type": "code",
   "execution_count": 6,
   "metadata": {},
   "outputs": [
    {
     "name": "stdout",
     "output_type": "stream",
     "text": [
      "index : 9 line : 1\n",
      "index : 6 line : 2\n",
      "index : 9 line : 2\n"
     ]
    }
   ],
   "source": [
    "# write a program to compare two files and find the difference in line and character\n",
    "# length of both are different then for same code run loop for files which has min. length\n",
    "\n",
    "f=open(\"a.txt\",\"r\")\n",
    "f1=open(\"b.txt\",\"r\")\n",
    "\n",
    "l1=f.readlines()\n",
    "l2=f1.readlines()\n",
    "\n",
    "for i in range(len(l1)):\n",
    "    for j in range(len(l1[i])):\n",
    "        if l1[i][j]==l2[i][j]:\n",
    "            continue\n",
    "        else:\n",
    "            print(\"index :\",(j+1),\"line :\",(i+1))"
   ]
  },
  {
   "cell_type": "code",
   "execution_count": 15,
   "metadata": {},
   "outputs": [
    {
     "name": "stdout",
     "output_type": "stream",
     "text": [
      "words : 4\n",
      "space : 4\n",
      "charcter : 13\n"
     ]
    }
   ],
   "source": [
    "# write a program to count words ,characters and spaces from text files\n",
    "\n",
    "f=open(\"c.txt\",\"r\")\n",
    "l=f.read()\n",
    "\n",
    "c=0\n",
    "s=l.count(\" \")\n",
    "w=len(l.split())\n",
    "\n",
    "for i in l:\n",
    "    if i.isalpha():\n",
    "        c=c+1\n",
    "\n",
    "print(\"words :\",w)\n",
    "print(\"space :\",s)\n",
    "print(\"charcter :\",c)"
   ]
  },
  {
   "cell_type": "code",
   "execution_count": 19,
   "metadata": {},
   "outputs": [],
   "source": [
    "# write a program to replace a word in file\n",
    "\n",
    "f=open(\"d.txt\",\"r\")\n",
    "s=f.read()\n",
    "f.close()\n",
    "f=open(\"d.txt\",\"w\")\n",
    "v=s.replace(\"this\",\"hello\")\n",
    "f.write(v)\n",
    "f.close()"
   ]
  },
  {
   "cell_type": "code",
   "execution_count": 43,
   "metadata": {},
   "outputs": [
    {
     "name": "stdout",
     "output_type": "stream",
     "text": [
      " UOY ERA OS UOY TUOBA\n",
      "\n",
      "VOWELS : 28\n"
     ]
    }
   ],
   "source": [
    "# write a program to reverse the content of file and store it in second file and also convert the content of second file \n",
    "# into upper case and store it in third file also count the no. of vowels in third file and also print second line \n",
    "# from the content of third line\n",
    "\n",
    "f1=open(\"f1.txt\",\"r\")\n",
    "l=f1.read()\n",
    "f1.close()\n",
    "\n",
    "f2=open(\"f2.txt\",\"w\")\n",
    "l1=l[::-1]\n",
    "f2.write(l[::-1])\n",
    "f2.close()\n",
    "\n",
    "f3=open(\"f3.txt\",\"w\")\n",
    "l2=l1.upper()\n",
    "f3.write(l2)\n",
    "f3.close()\n",
    "\n",
    "f4=open(\"f3.txt\",\"r\")\n",
    "f4.readline()\n",
    "print(f4.readline())\n",
    "f4.close()\n",
    "\n",
    "c=0\n",
    "d=\"AEIOU\"\n",
    "\n",
    "for i in l2:\n",
    "    if i in d:\n",
    "        c=c+1\n",
    "\n",
    "print(\"VOWELS :\",c)    \n",
    "\n"
   ]
  },
  {
   "cell_type": "code",
   "execution_count": 39,
   "metadata": {},
   "outputs": [
    {
     "name": "stdout",
     "output_type": "stream",
     "text": [
      "Enter :hello how are you\n",
      "Enter :hi\n",
      "Enter :no\n",
      "Enter :what\n",
      "Enter :Why are you here\n",
      "Enter :end\n",
      "Why are you here\n",
      "\n"
     ]
    }
   ],
   "source": [
    "# write a program to accept string or sentence from user til the user write end\n",
    "# each string or sentence enterd by user should be in new new line in a file and display only line which\n",
    "# begin with capital letters\n",
    "\n",
    "b=True\n",
    "f=open(\"sen.txt\",\"w\")\n",
    "\n",
    "while b:\n",
    "    if s==\"end\":\n",
    "        b=False\n",
    "        break\n",
    "    else:\n",
    "        s=input(\"Enter :\")\n",
    "        f.write(s+\"\\n\")\n",
    "        \n",
    "f.close()\n",
    "\n",
    "f1=open(\"sen.txt\",\"r\")\n",
    "l=f1.readlines()\n",
    "\n",
    "for i in l:\n",
    "    if i[0].isupper():\n",
    "        print(i)\n",
    "        "
   ]
  },
  {
   "cell_type": "code",
   "execution_count": 45,
   "metadata": {},
   "outputs": [
    {
     "name": "stdout",
     "output_type": "stream",
     "text": [
      "file is close : False\n",
      "file is name : sen.txt\n",
      "file is mode : r\n",
      "file is redable : True\n",
      "file is writable : False\n"
     ]
    }
   ],
   "source": [
    "f=open(\"sen.txt\",\"r\")\n",
    "print(\"file is close :\",f.closed)\n",
    "print(\"file is name :\",f.name)\n",
    "print(\"file is mode :\",f.mode)\n",
    "print(\"file is redable :\",f.readable()) # it contains BRACKET\n",
    "print(\"file is writable :\",f.writable())"
   ]
  },
  {
   "cell_type": "code",
   "execution_count": null,
   "metadata": {},
   "outputs": [],
   "source": [
    "# to search a string entered by user in text file\n",
    "\n",
    "f=open(\"e.txt\",\"r\")\n",
    "l=f.read()\n",
    "for i in range(len(l)):\n",
    "    "
   ]
  }
 ],
 "metadata": {
  "kernelspec": {
   "display_name": "Python 3",
   "language": "python",
   "name": "python3"
  },
  "language_info": {
   "codemirror_mode": {
    "name": "ipython",
    "version": 3
   },
   "file_extension": ".py",
   "mimetype": "text/x-python",
   "name": "python",
   "nbconvert_exporter": "python",
   "pygments_lexer": "ipython3",
   "version": "3.8.5"
  }
 },
 "nbformat": 4,
 "nbformat_minor": 4
}
