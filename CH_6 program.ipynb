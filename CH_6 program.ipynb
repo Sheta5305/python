{
 "cells": [
  {
   "cell_type": "code",
   "execution_count": 14,
   "metadata": {},
   "outputs": [],
   "source": [
    "# print data of two files alternatively in 3rd file and if any file has more lines then print it at last \n",
    "\n",
    "f=open(\"a.txt\",\"r\")\n",
    "f1=open(\"b.txt\",\"r\")\n",
    "f2=open(\"c.txt\",\"w\")\n",
    "f11=f.readlines()\n",
    "f22=f1.readlines()\n",
    "\n",
    "if len(f11)>len(f22):\n",
    "    g=f11\n",
    "    g1=f22\n",
    "else:\n",
    "    g=f22\n",
    "    g1=f11\n",
    "\n",
    "for i in range(len(g)):\n",
    "    if i<len(g1):\n",
    "        f2.write(g1[i])\n",
    "    if i==(len(g1)-1):\n",
    "        f2.write(\"\\n\")\n",
    "    f2.write(g[i])\n",
    "f2.close()\n"
   ]
  },
  {
   "cell_type": "code",
   "execution_count": 24,
   "metadata": {},
   "outputs": [
    {
     "name": "stdout",
     "output_type": "stream",
     "text": [
      "doing\n"
     ]
    }
   ],
   "source": [
    "# write a program to find the longest word in the text file\n",
    "\n",
    "f=open(\"a.txt\",\"r\")\n",
    "s=f.read()\n",
    "f.close()\n",
    "s1=s.split()\n",
    "s2=sorted(s1,key=lambda x:len(x))\n",
    "print(s2[-1])"
   ]
  },
  {
   "cell_type": "code",
   "execution_count": null,
   "metadata": {},
   "outputs": [],
   "source": []
  },
  {
   "cell_type": "code",
   "execution_count": null,
   "metadata": {},
   "outputs": [],
   "source": []
  },
  {
   "cell_type": "code",
   "execution_count": null,
   "metadata": {},
   "outputs": [],
   "source": []
  }
 ],
 "metadata": {
  "kernelspec": {
   "display_name": "Python 3",
   "language": "python",
   "name": "python3"
  },
  "language_info": {
   "codemirror_mode": {
    "name": "ipython",
    "version": 3
   },
   "file_extension": ".py",
   "mimetype": "text/x-python",
   "name": "python",
   "nbconvert_exporter": "python",
   "pygments_lexer": "ipython3",
   "version": "3.8.5"
  }
 },
 "nbformat": 4,
 "nbformat_minor": 4
}
